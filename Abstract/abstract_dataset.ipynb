{
 "cells": [
  {
   "cell_type": "code",
   "execution_count": 1,
   "metadata": {
    "ExecuteTime": {
     "end_time": "2022-11-21T11:21:13.911062Z",
     "start_time": "2022-11-21T11:21:13.029794Z"
    }
   },
   "outputs": [],
   "source": [
    "from itertools import count\n",
    "import re\n",
    "import time\n",
    "from nltk.corpus import stopwords \n",
    "from hlda.sampler import HierarchicalLDA\n",
    "\n",
    "import pandas as pd\n",
    "import numpy as np\n",
    "\n",
    "from warnings import filterwarnings\n",
    "filterwarnings('ignore')\n",
    "\n",
    "from sklearn.feature_extraction.text import CountVectorizer\n",
    "import math"
   ]
  },
  {
   "cell_type": "markdown",
   "metadata": {},
   "source": [
    "### Dataset dependent processing"
   ]
  },
  {
   "cell_type": "code",
   "execution_count": 2,
   "metadata": {
    "ExecuteTime": {
     "end_time": "2022-11-21T11:21:15.435234Z",
     "start_time": "2022-11-21T11:21:13.912314Z"
    }
   },
   "outputs": [],
   "source": [
    "abstract=pd.read_csv('Clean/abstract_clean_file.csv')\n",
    "\n",
    "abstract['ABSTRACT']=abstract['clean_abstract']\n",
    "#name='hlda_summary_output.txt'\n",
    "\n",
    "# In[3]:\n",
    "# stop loss words \n",
    "stop = set(stopwords.words('english'))\n",
    "def clean(doc):\n",
    "    normalized=''\n",
    "    # normalize and lemmatize the text\n",
    "    for word in doc.split():\n",
    "        if word not in stop:\n",
    "            normalized = normalized + ' '+ word.lower()\n",
    "    \n",
    "    return normalized.strip()\n",
    "\n",
    "\n",
    "# In[4]:\n",
    "# clean data stored in a new list\n",
    "clean_corpus = []\n",
    "clean_corpus = [clean(doc) for doc in abstract['ABSTRACT']] \n",
    "\n",
    "\n",
    "# In[5]:\n",
    "\n",
    "\n",
    "#Create vocab\n",
    "vocab = set()\n",
    "for doc in clean_corpus:\n",
    "    for w in doc.split():\n",
    "        if w not in vocab:\n",
    "            vocab.add(w)\n",
    "\n",
    "\n",
    "# In[6]:\n",
    "\n",
    "\n",
    "# For further analysis. term-index\n",
    "vocab = sorted(list(vocab))\n",
    "vocab_index = {}\n",
    "vocab_word_index={}\n",
    "for i, w in enumerate(vocab):\n",
    "    vocab_index[w] = i\n",
    "    vocab_word_index[i] = w\n",
    "\n",
    "\n",
    "# In[7]:\n",
    "\n",
    "\n",
    "# Doc-Term matrix\n",
    "new_corpus = []\n",
    "for doc in clean_corpus:\n",
    "    new_doc = []\n",
    "    for word in doc.split():\n",
    "        word_idx = vocab_index[word]\n",
    "        new_doc.append(word_idx)\n",
    "    new_corpus.append(new_doc)\n",
    "\n",
    "\n",
    "# #### HyperParameters\n",
    "vocab = np.array(vocab)"
   ]
  },
  {
   "cell_type": "markdown",
   "metadata": {},
   "source": [
    "### Training"
   ]
  },
  {
   "cell_type": "markdown",
   "metadata": {},
   "source": [
    "#### Hyperparameters"
   ]
  },
  {
   "cell_type": "code",
   "execution_count": 3,
   "metadata": {
    "ExecuteTime": {
     "end_time": "2022-11-21T11:21:15.441592Z",
     "start_time": "2022-11-21T11:21:15.438124Z"
    }
   },
   "outputs": [
    {
     "name": "stdout",
     "output_type": "stream",
     "text": [
      "training cell with  7\n"
     ]
    }
   ],
   "source": [
    "\n",
    "n_samples = 10        # no of iterations for the sampler\n",
    "alpha = 7          # smoothing over level distributions\n",
    "gamma = .5           # CRP smoothing parameter; number of imaginary customers at next, as yet unused table\n",
    "eta = 0.9             # smoothing over topic-word distributions\n",
    "num_levels = 3        # the number of levels in the tree\n",
    "display_topics = 10    # the number of iterations between printing a brief summary of the topics so far\n",
    "n_words = 100           # the number of most probable words to print for each topic after model estimation\n",
    "with_weights = True  # whether to print the words with the weights\n",
    "\n",
    "\n",
    "# #### Train\n",
    "\n",
    "# In[ ]:\n",
    "print('training cell with ', alpha)\n",
    "start = time.time()"
   ]
  },
  {
   "cell_type": "code",
   "execution_count": 4,
   "metadata": {
    "ExecuteTime": {
     "end_time": "2022-11-21T11:33:00.635452Z",
     "start_time": "2022-11-21T11:21:15.442514Z"
    }
   },
   "outputs": [],
   "source": [
    "%%capture captured\n",
    "hlda = HierarchicalLDA(new_corpus, vocab, num_levels=num_levels,eta=eta,alpha=alpha, gamma=gamma)\n",
    "hlda.estimate(n_samples, display_topics=display_topics, n_words=n_words, with_weights=with_weights)"
   ]
  },
  {
   "cell_type": "code",
   "execution_count": 6,
   "metadata": {
    "ExecuteTime": {
     "end_time": "2022-11-21T11:33:00.703600Z",
     "start_time": "2022-11-21T11:33:00.639545Z"
    }
   },
   "outputs": [
    {
     "name": "stdout",
     "output_type": "stream",
     "text": [
      "time taken for one  11.754359630743663\n",
      "23  number of topics for alpha  7\n"
     ]
    }
   ],
   "source": [
    "res=[]\n",
    "for i in range(0,len(new_corpus)):\n",
    "    #print(i, \" : \", hlda.document_leaves[i])\n",
    "    leaf = str(hlda.document_leaves[i])\n",
    "    topic_id = leaf.split()[0].split(\"=\")[1]\n",
    "    level = leaf.split()[1].split(\"=\")[1]\n",
    "    parent = leaf.split()[-1].split(\"=\")[1]\n",
    "    res.append([int(i),int(topic_id),int(level),int(parent)])\n",
    "#print(result)\n",
    "\n",
    "\n",
    "# In[50]:\n",
    "\n",
    "\n",
    "result=pd.DataFrame(res, columns=['doc_id', 'topic_id', 'level','parent'])\n",
    "\n",
    "\n",
    "\n",
    "# In[ ]:\n",
    "\n",
    "\n",
    "num_topic = result['topic_id'].nunique()\n",
    "end = time.time()\n",
    "print('time taken for one ', (end-start)/60)\n",
    "print(num_topic,' number of topics for alpha ', alpha)\n",
    "#aplha=alpha-1"
   ]
  },
  {
   "cell_type": "code",
   "execution_count": 7,
   "metadata": {
    "ExecuteTime": {
     "end_time": "2022-11-21T11:33:00.709041Z",
     "start_time": "2022-11-21T11:33:00.706260Z"
    }
   },
   "outputs": [],
   "source": [
    "#Save\n",
    "name='CleanAbstract_alpha_%s_topic_%s'%(alpha,result['topic_id'].nunique())\n",
    "with open(name, 'w') as f:\n",
    "    f.write(captured.stdout)"
   ]
  },
  {
   "cell_type": "markdown",
   "metadata": {},
   "source": [
    "#### topic_id| candidate_term | level | parent"
   ]
  },
  {
   "cell_type": "code",
   "execution_count": 8,
   "metadata": {
    "ExecuteTime": {
     "end_time": "2022-11-21T11:33:00.719628Z",
     "start_time": "2022-11-21T11:33:00.710901Z"
    }
   },
   "outputs": [],
   "source": [
    "#open text file in read mode\n",
    "text_file = open(name, \"r\")\n",
    "\n",
    "#read whole file to a string\n",
    "data = text_file.read()\n",
    "\n",
    "#close file\n",
    "text_file.close()\n",
    "length = len(data.split('\\n'))\n",
    "#length\n",
    "data_lines = data.split('\\n')"
   ]
  },
  {
   "cell_type": "code",
   "execution_count": 9,
   "metadata": {
    "ExecuteTime": {
     "end_time": "2022-11-21T11:33:00.748561Z",
     "start_time": "2022-11-21T11:33:00.720874Z"
    }
   },
   "outputs": [],
   "source": [
    "topic_data = []\n",
    "dt_line = data_lines[length-1]\n",
    "cnt = length-1\n",
    "\n",
    "while(len(dt_line)==0 or dt_line[0]!='.'): #we need only last iteration\n",
    "    if(len(dt_line)==0):\n",
    "        cnt = cnt-1\n",
    "        dt_line = data_lines[cnt]\n",
    "        continue    \n",
    "    topic_id = dt_line.split()[0].split('=')[1]\n",
    "    level = dt_line.split()[1].split('=')[1]\n",
    "    terms=[]\n",
    "    for n in range(3,n_words*2+3,2):\n",
    "        terms.append(data_lines[cnt].split()[n])\n",
    "    topic_data.append([int(topic_id),int(level), terms])\n",
    "    cnt = cnt-1\n",
    "    dt_line = data_lines[cnt]\n"
   ]
  },
  {
   "cell_type": "code",
   "execution_count": 10,
   "metadata": {
    "ExecuteTime": {
     "end_time": "2022-11-21T11:33:00.771558Z",
     "start_time": "2022-11-21T11:33:00.749825Z"
    }
   },
   "outputs": [
    {
     "data": {
      "text/html": [
       "<div>\n",
       "<style scoped>\n",
       "    .dataframe tbody tr th:only-of-type {\n",
       "        vertical-align: middle;\n",
       "    }\n",
       "\n",
       "    .dataframe tbody tr th {\n",
       "        vertical-align: top;\n",
       "    }\n",
       "\n",
       "    .dataframe thead th {\n",
       "        text-align: right;\n",
       "    }\n",
       "</style>\n",
       "<table border=\"1\" class=\"dataframe\">\n",
       "  <thead>\n",
       "    <tr style=\"text-align: right;\">\n",
       "      <th></th>\n",
       "      <th>topic_id</th>\n",
       "      <th>level</th>\n",
       "      <th>topic_terms</th>\n",
       "    </tr>\n",
       "  </thead>\n",
       "  <tbody>\n",
       "    <tr>\n",
       "      <th>0</th>\n",
       "      <td>37</td>\n",
       "      <td>2</td>\n",
       "      <td>[sphericity, bf4, emim, exfoliation, stabilize...</td>\n",
       "    </tr>\n",
       "    <tr>\n",
       "      <th>25</th>\n",
       "      <td>1</td>\n",
       "      <td>1</td>\n",
       "      <td>[inside, considering, model, show, method, dat...</td>\n",
       "    </tr>\n",
       "    <tr>\n",
       "      <th>14</th>\n",
       "      <td>9</td>\n",
       "      <td>1</td>\n",
       "      <td>[symplectic, dpps, inside, muons, well, fdc, d...</td>\n",
       "    </tr>\n",
       "    <tr>\n",
       "      <th>1</th>\n",
       "      <td>36</td>\n",
       "      <td>2</td>\n",
       "      <td>[noncollapsing, oie, evans, piatetski, ahss, l...</td>\n",
       "    </tr>\n",
       "    <tr>\n",
       "      <th>19</th>\n",
       "      <td>22</td>\n",
       "      <td>2</td>\n",
       "      <td>[de, la, biserial, los, des, le, vectoring, st...</td>\n",
       "    </tr>\n",
       "  </tbody>\n",
       "</table>\n",
       "</div>"
      ],
      "text/plain": [
       "    topic_id  level                                        topic_terms\n",
       "0         37      2  [sphericity, bf4, emim, exfoliation, stabilize...\n",
       "25         1      1  [inside, considering, model, show, method, dat...\n",
       "14         9      1  [symplectic, dpps, inside, muons, well, fdc, d...\n",
       "1         36      2  [noncollapsing, oie, evans, piatetski, ahss, l...\n",
       "19        22      2  [de, la, biserial, los, des, le, vectoring, st..."
      ]
     },
     "execution_count": 10,
     "metadata": {},
     "output_type": "execute_result"
    }
   ],
   "source": [
    "tp_data=pd.DataFrame(topic_data, columns=['topic_id','level','topic_terms'])\n",
    "tp_data.sample(5)"
   ]
  },
  {
   "cell_type": "markdown",
   "metadata": {},
   "source": [
    "### SOTA"
   ]
  },
  {
   "cell_type": "code",
   "execution_count": 11,
   "metadata": {
    "ExecuteTime": {
     "end_time": "2022-11-21T11:33:00.779245Z",
     "start_time": "2022-11-21T11:33:00.772870Z"
    }
   },
   "outputs": [],
   "source": [
    "import math\n",
    "from warnings import filterwarnings\n",
    "filterwarnings('ignore')\n",
    "from sklearn.feature_extraction.text import CountVectorizer"
   ]
  },
  {
   "cell_type": "markdown",
   "metadata": {},
   "source": [
    "#### number of words in topic"
   ]
  },
  {
   "cell_type": "code",
   "execution_count": 12,
   "metadata": {
    "ExecuteTime": {
     "end_time": "2022-11-21T11:33:00.787854Z",
     "start_time": "2022-11-21T11:33:00.780446Z"
    }
   },
   "outputs": [],
   "source": [
    "def vector(topic_id,node):\n",
    "    vectorizer = CountVectorizer()\n",
    "    document=[]\n",
    "    if node=='leaf':\n",
    "        for doc_id in result[result['topic_id']==topic_id]['doc_id']:\n",
    "               document.append(abstract['ABSTRACT'].iloc[doc_id])\n",
    "        vectorizer.fit(document)\n",
    "    elif node=='parent':\n",
    "        for doc_id in result[result['parent']==topic_id]['doc_id']: #only to change\n",
    "               document.append(abstract['ABSTRACT'].iloc[doc_id])\n",
    "        vectorizer.fit(document)\n",
    "    elif node=='grandparent':\n",
    "        for doc_id in result['doc_id']:\n",
    "            document.append(abstract['ABSTRACT'].iloc[doc_id])\n",
    "        vectorizer.fit(document)\n",
    "    return vectorizer"
   ]
  },
  {
   "cell_type": "code",
   "execution_count": 13,
   "metadata": {
    "ExecuteTime": {
     "end_time": "2022-11-21T11:33:02.183282Z",
     "start_time": "2022-11-21T11:33:00.789063Z"
    }
   },
   "outputs": [],
   "source": [
    "leaf_vec = dict()\n",
    "for t_id in result['topic_id'].unique():    \n",
    "    leaf_vec[t_id]=vector(t_id,'leaf')"
   ]
  },
  {
   "cell_type": "code",
   "execution_count": 14,
   "metadata": {
    "ExecuteTime": {
     "end_time": "2022-11-21T11:33:03.536922Z",
     "start_time": "2022-11-21T11:33:02.184545Z"
    }
   },
   "outputs": [],
   "source": [
    "level_one = dict()\n",
    "for t_id in result['parent'].unique():\n",
    "    level_one[t_id]=vector(t_id,'parent')"
   ]
  },
  {
   "cell_type": "code",
   "execution_count": 15,
   "metadata": {
    "ExecuteTime": {
     "end_time": "2022-11-21T11:33:04.871815Z",
     "start_time": "2022-11-21T11:33:03.538101Z"
    }
   },
   "outputs": [],
   "source": [
    "level_zero = dict()\n",
    "t_id = 0\n",
    "level_zero[t_id]=vector(t_id,'grandparent')"
   ]
  },
  {
   "cell_type": "markdown",
   "metadata": {},
   "source": [
    "#### number of doc has term"
   ]
  },
  {
   "cell_type": "code",
   "execution_count": 16,
   "metadata": {
    "ExecuteTime": {
     "end_time": "2022-11-21T11:33:04.874934Z",
     "start_time": "2022-11-21T11:33:04.872928Z"
    }
   },
   "outputs": [],
   "source": [
    "from collections import defaultdict"
   ]
  },
  {
   "cell_type": "code",
   "execution_count": 17,
   "metadata": {
    "ExecuteTime": {
     "end_time": "2022-11-21T11:33:04.883353Z",
     "start_time": "2022-11-21T11:33:04.876011Z"
    }
   },
   "outputs": [],
   "source": [
    "def doc_number(topic_id,node):\n",
    "    documents=[]\n",
    "    number_word_dict=defaultdict(list)\n",
    "    \n",
    "    if node=='leaf':\n",
    "        for doc_id in result[result['topic_id']==t_id]['doc_id']:\n",
    "            words=set(abstract['ABSTRACT'].iloc[doc_id].split())\n",
    "            for wrd in words:\n",
    "                number_word_dict[wrd].append(doc_id)\n",
    "    \n",
    "    elif node=='parent':\n",
    "        for doc_id in result[result['parent']==t_id]['doc_id']:\n",
    "            words=set(abstract['ABSTRACT'].iloc[doc_id].split())\n",
    "            for wrd in words:\n",
    "                number_word_dict[wrd].append(doc_id)\n",
    "    \n",
    "    elif node=='grandparent':\n",
    "        for doc_id in result['doc_id']:\n",
    "            words=set(abstract['ABSTRACT'].iloc[doc_id].split())\n",
    "            for wrd in words:\n",
    "                number_word_dict[wrd].append(doc_id)\n",
    "    \n",
    "    return number_word_dict"
   ]
  },
  {
   "cell_type": "code",
   "execution_count": 18,
   "metadata": {
    "ExecuteTime": {
     "end_time": "2022-11-21T11:33:05.623715Z",
     "start_time": "2022-11-21T11:33:04.884507Z"
    }
   },
   "outputs": [],
   "source": [
    "leaf_number_doc = dict()\n",
    "for t_id in result['topic_id'].unique():    \n",
    "    leaf_number_doc[t_id]=doc_number(t_id,'leaf')"
   ]
  },
  {
   "cell_type": "code",
   "execution_count": 19,
   "metadata": {
    "ExecuteTime": {
     "end_time": "2022-11-21T11:33:06.387377Z",
     "start_time": "2022-11-21T11:33:05.625075Z"
    }
   },
   "outputs": [],
   "source": [
    "levelONE_number_doc = dict()\n",
    "for t_id in result['parent'].unique():    \n",
    "    levelONE_number_doc[t_id]=doc_number(t_id,'parent')"
   ]
  },
  {
   "cell_type": "code",
   "execution_count": 20,
   "metadata": {
    "ExecuteTime": {
     "end_time": "2022-11-21T11:33:07.180365Z",
     "start_time": "2022-11-21T11:33:06.388605Z"
    }
   },
   "outputs": [],
   "source": [
    "levelZERO_number_doc = dict()\n",
    "t_id=0\n",
    "levelZERO_number_doc[t_id]=doc_number(t_id,'grandparent')"
   ]
  },
  {
   "cell_type": "markdown",
   "metadata": {},
   "source": [
    "### Level 2|| Leaf"
   ]
  },
  {
   "cell_type": "code",
   "execution_count": 21,
   "metadata": {
    "ExecuteTime": {
     "end_time": "2022-11-21T11:33:07.184047Z",
     "start_time": "2022-11-21T11:33:07.181489Z"
    }
   },
   "outputs": [],
   "source": [
    "def stat_2(topic_j, topic_k, candidate_term): #j should be original and k is child\n",
    "    a1 = s1_2(topic_k, candidate_term)\n",
    "    a2 = s2_2(topic_j, candidate_term)\n",
    "    a3 = a2 #s3_2(topic_j, candidate_term) #Since s3_2 is same as s2_2\n",
    "    #print(a1,a2,a3)\n",
    "    return a1*a2*a3"
   ]
  },
  {
   "cell_type": "code",
   "execution_count": 22,
   "metadata": {
    "ExecuteTime": {
     "end_time": "2022-11-21T11:33:07.193040Z",
     "start_time": "2022-11-21T11:33:07.186498Z"
    }
   },
   "outputs": [],
   "source": [
    "#S1= Idf of term * term frequency in corpus\n",
    "def s1_2(topic_id, term):\n",
    "    #number of doc in topic=topic_id; VERIFIED\n",
    "    doc_in_tid=len(result[result['topic_id']==topic_id])    \n",
    "    \n",
    "    #number of doc has term\n",
    "    if term in leaf_number_doc[topic_id]:\n",
    "        doc_n = len(leaf_number_doc[topic_id][term])\n",
    "    else:\n",
    "        doc_n=1\n",
    "    \n",
    "    #number of times term in topic_id\n",
    "    if term in leaf_vec[topic_id].vocabulary_:\n",
    "        tf=leaf_vec[topic_id].vocabulary_[term]\n",
    "    else:\n",
    "        tf=0\n",
    "    \n",
    "    score= math.log(doc_in_tid/doc_n + 1)*tf\n",
    "    return score"
   ]
  },
  {
   "cell_type": "code",
   "execution_count": 23,
   "metadata": {
    "ExecuteTime": {
     "end_time": "2022-11-21T11:33:07.204055Z",
     "start_time": "2022-11-21T11:33:07.194314Z"
    }
   },
   "outputs": [],
   "source": [
    "#S2= Parent tf-idf\n",
    "#Not used TfIdf vectors, as in this, if term in the doc, it is counted only once.\n",
    "def s2_2(topic_id, term):\n",
    "    #parent-id\n",
    "    p_topic_id=result[result['topic_id']==topic_id]['parent'].unique()\n",
    "    #number of doc in parent_id\n",
    "    doc_n = len(result[result['parent']==p_topic_id[0]]['doc_id']) #p_topic_id[0]; since only 1 parent possible\n",
    "    \n",
    "    #number of doc p_topic_id has term\n",
    "    if term in levelONE_number_doc[p_topic_id[0]]:\n",
    "        tf=len(levelONE_number_doc[p_topic_id[0]][term])\n",
    "    else:\n",
    "        tf=1        \n",
    "    \n",
    "    #Log idf in corpus\n",
    "    score = math.log(doc_n/tf+1)\n",
    "    return score"
   ]
  },
  {
   "cell_type": "markdown",
   "metadata": {},
   "source": [
    "### Level 1 || Parent"
   ]
  },
  {
   "cell_type": "code",
   "execution_count": 24,
   "metadata": {
    "ExecuteTime": {
     "end_time": "2022-11-21T11:33:07.211768Z",
     "start_time": "2022-11-21T11:33:07.205077Z"
    }
   },
   "outputs": [],
   "source": [
    "def stat_1(topic_j, topic_k, candidate_term): #j shuld be original and k is child\n",
    "    a1 = s1_1(topic_k, candidate_term)\n",
    "    a2 = s2_1(topic_j, candidate_term)\n",
    "    a3 = s3_1(topic_j, candidate_term) \n",
    "    return a1*a2*a3"
   ]
  },
  {
   "cell_type": "code",
   "execution_count": 25,
   "metadata": {
    "ExecuteTime": {
     "end_time": "2022-11-21T11:33:07.219744Z",
     "start_time": "2022-11-21T11:33:07.212734Z"
    }
   },
   "outputs": [],
   "source": [
    "def s1_1(topic_id, term):\n",
    "    #number of doc in topic=topic_id; VERIFIED\n",
    "    doc_in_tid=len(result[result['topic_id']==topic_id])    \n",
    "    \n",
    "    #number of doc has term\n",
    "    if term in leaf_number_doc[topic_id]:\n",
    "        doc_n = len(leaf_number_doc[topic_id][term])\n",
    "    else:\n",
    "        doc_n = 1\n",
    "    \n",
    "    #number of times term in topic_id\n",
    "    if term in leaf_vec[topic_id].vocabulary_:\n",
    "        tf=leaf_vec[topic_id].vocabulary_[term]\n",
    "    else:\n",
    "        tf=1\n",
    "    \n",
    "    score= math.log(doc_in_tid/doc_n + 1)*tf\n",
    "    return score"
   ]
  },
  {
   "cell_type": "code",
   "execution_count": 26,
   "metadata": {
    "ExecuteTime": {
     "end_time": "2022-11-21T11:33:07.227414Z",
     "start_time": "2022-11-21T11:33:07.220693Z"
    }
   },
   "outputs": [],
   "source": [
    "def s2_1(topic_id, term):\n",
    "    #parent-id\n",
    "    p_topic_id = 0\n",
    "    #number of doc in parent_id (aka Grandparent)\n",
    "    doc_n = len(result)\n",
    "    \n",
    "    #number of doc p_topic_id has term\n",
    "    if term in levelZERO_number_doc[p_topic_id]:\n",
    "        tf=len(levelZERO_number_doc[p_topic_id][term])\n",
    "    else:\n",
    "        tf=1        \n",
    "    \n",
    "    #Log idf in corpus\n",
    "    score = math.log(doc_n/tf+1)\n",
    "    return score    "
   ]
  },
  {
   "cell_type": "code",
   "execution_count": 27,
   "metadata": {
    "ExecuteTime": {
     "end_time": "2022-11-21T11:33:07.237386Z",
     "start_time": "2022-11-21T11:33:07.228389Z"
    }
   },
   "outputs": [],
   "source": [
    "def s3_1(topic_id, term):\n",
    "    #direct child\n",
    "    child = result[result['parent']==topic_id]['topic_id'].unique()\n",
    "    \n",
    "    #number of direct child\n",
    "    number_of_child = len(child)\n",
    "    \n",
    "    #number of direct child has term\n",
    "    child_term_count = 0\n",
    "    for direct_child in child:\n",
    "        if term in leaf_number_doc[direct_child]:\n",
    "            child_term_count+=1    \n",
    "    \n",
    "    #number of doc in topic_id/parent has term\n",
    "    if term in levelONE_number_doc[topic_id]:\n",
    "        term_doc = len(levelONE_number_doc[topic_id][term])\n",
    "    else:\n",
    "        term_doc = 1\n",
    "    \n",
    "    #number of doc in parent/topic_id\n",
    "    doc_n = len(result[result['parent']==topic_id]['doc_id'])\n",
    "    \n",
    "    score = math.log(number_of_child/child_term_count + 1)*math.exp(term_doc/doc_n)\n",
    "    return score\n",
    "    "
   ]
  },
  {
   "cell_type": "markdown",
   "metadata": {},
   "source": [
    "### Level 0 || Grandparent"
   ]
  },
  {
   "cell_type": "code",
   "execution_count": 28,
   "metadata": {
    "ExecuteTime": {
     "end_time": "2022-11-21T11:33:07.245650Z",
     "start_time": "2022-11-21T11:33:07.238369Z"
    }
   },
   "outputs": [],
   "source": [
    "def stat_0(topic_j, topic_k, candidate_term): #j shuld be original and k is child\n",
    "    a1 = s1_0(topic_k, candidate_term)\n",
    "    a2 = s2_0(topic_j, candidate_term)\n",
    "    a3 = s3_0(topic_j, candidate_term) \n",
    "    return a1*a2*a3"
   ]
  },
  {
   "cell_type": "code",
   "execution_count": 29,
   "metadata": {
    "ExecuteTime": {
     "end_time": "2022-11-21T11:33:07.254737Z",
     "start_time": "2022-11-21T11:33:07.246632Z"
    }
   },
   "outputs": [],
   "source": [
    "def s1_0(topic_id, term):\n",
    "    #number of doc in topic-id\n",
    "    doc_in_tid = len(result[result['parent']==topic_id]['doc_id']) #since child of grandparent is parent\n",
    "    \n",
    "    #number of doc has term\n",
    "    if term in levelONE_number_doc[topic_id]:\n",
    "        doc_n = len(levelONE_number_doc[topic_id][term])\n",
    "    else:\n",
    "        doc_n=1\n",
    "    #number of times term in topic_id\n",
    "    if term in level_one[topic_id].vocabulary_:\n",
    "        tf = level_one[topic_id].vocabulary_[term]\n",
    "    else:\n",
    "        tf=0\n",
    "    \n",
    "    score= math.log(doc_in_tid/doc_n + 1)*tf\n",
    "    return score"
   ]
  },
  {
   "cell_type": "code",
   "execution_count": 30,
   "metadata": {
    "ExecuteTime": {
     "end_time": "2022-11-21T11:33:07.262937Z",
     "start_time": "2022-11-21T11:33:07.255721Z"
    }
   },
   "outputs": [],
   "source": [
    "def s2_0(topic_id, term):\n",
    "    #parent-id\n",
    "    p_topic_id = 0\n",
    "    #number of doc in parent_id (GrandParent so all) contains term;\n",
    "    doc_n = len(result['doc_id'])\n",
    "    \n",
    "    #number of doc p_topic_id has term\n",
    "    if term in levelZERO_number_doc[p_topic_id]:\n",
    "        tf=len(levelZERO_number_doc[p_topic_id][term])\n",
    "    else:\n",
    "        tf=0\n",
    "        \n",
    "    if tf==0:\n",
    "        tf=1\n",
    "        doc_n=1\n",
    "    #Log idf in corpus\n",
    "    score = math.log(doc_n/tf+1)\n",
    "    return score"
   ]
  },
  {
   "cell_type": "code",
   "execution_count": 31,
   "metadata": {
    "ExecuteTime": {
     "end_time": "2022-11-21T11:33:07.275018Z",
     "start_time": "2022-11-21T11:33:07.263901Z"
    }
   },
   "outputs": [],
   "source": [
    "def s3_0(topic_id, term):\n",
    "    #number of direct child\n",
    "    number_of_child = result['parent'].nunique()\n",
    "    \n",
    "    #number of direct child has term\n",
    "    child_term_count = 0\n",
    "    for direct_child in result['parent'].unique():\n",
    "        if term in levelONE_number_doc[direct_child]:\n",
    "            child_term_count+=1    \n",
    "    \n",
    "    #number of doc in Grandparent/topic_id has term\n",
    "    if term in levelZERO_number_doc[0]:\n",
    "        term_doc = len(levelZERO_number_doc[0][term])\n",
    "    else:\n",
    "        term_doc = 1\n",
    "    \n",
    "    #number of doc in Grandparent/topic_id\n",
    "    doc_n = len(result)\n",
    "    \n",
    "    score = math.log(number_of_child/child_term_count + 1)*math.exp(term_doc/doc_n)\n",
    "    return score"
   ]
  },
  {
   "cell_type": "code",
   "execution_count": 32,
   "metadata": {
    "ExecuteTime": {
     "end_time": "2022-11-21T12:44:46.110997Z",
     "start_time": "2022-11-21T11:33:07.276108Z"
    }
   },
   "outputs": [
    {
     "name": "stdout",
     "output_type": "stream",
     "text": [
      "completed till  0\n",
      "completed till  20\n"
     ]
    }
   ],
   "source": [
    "label=[]\n",
    "for i in range(0,len(tp_data)):\n",
    "    topic_id = tp_data.iloc[i]['topic_id']\n",
    "    candidate_terms = tp_data.iloc[i]['topic_terms']\n",
    "    level = tp_data.iloc[i]['level']\n",
    "    twl_rank = []\n",
    "    \n",
    "    if level == 2: #leaf\n",
    "        for cnd_term in candidate_terms:\n",
    "            score=stat_2(topic_id,topic_id,cnd_term)\n",
    "            #frequency of term in the topic\n",
    "            if cnd_term in leaf_vec[topic_id].vocabulary_:\n",
    "                tf = leaf_vec[topic_id].vocabulary_[cnd_term]\n",
    "            else:\n",
    "                tf = 1\n",
    "            twl_rank.append([cnd_term,score*tf])\n",
    "    \n",
    "    elif level == 1: #parent        \n",
    "        for cnd_term in candidate_terms:\n",
    "            score = 0\n",
    "            k = result[result['parent']==topic_id]['topic_id']\n",
    "            for child_id in k:\n",
    "                #frequency of term in the child_topic\n",
    "                if cnd_term in leaf_vec[child_id].vocabulary_:\n",
    "                    tf = leaf_vec[child_id].vocabulary_[cnd_term]\n",
    "                else:\n",
    "                    tf = 1\n",
    "                score += stat_1(topic_id,child_id,cnd_term)*tf\n",
    "            twl_rank.append([cnd_term,score])\n",
    "    \n",
    "    elif level == 0:\n",
    "        for cnd_term in candidate_terms:\n",
    "            score = 0\n",
    "            k = result['parent'].unique()\n",
    "            for child_id in k:\n",
    "                #frequency of term in the child_topic\n",
    "                if cnd_term in level_one[child_id].vocabulary_:\n",
    "                    tf = level_one[child_id].vocabulary_[cnd_term]\n",
    "                else:\n",
    "                    tf = 1\n",
    "                score += stat_0(topic_id,child_id,cnd_term)*tf\n",
    "            twl_rank.append([cnd_term,score])            \n",
    "    \n",
    "    \n",
    "    twl_df = pd.DataFrame(twl_rank,columns=['term','score'])\n",
    "    lbl = twl_df.sort_values('score', ascending=False).iloc[0]['term']\n",
    "    label.append(lbl)\n",
    "    if i%20==0:\n",
    "        print('completed till ', i) #just to check whether code is running.\n",
    "\n",
    "tp_data['label']=label"
   ]
  },
  {
   "cell_type": "markdown",
   "metadata": {},
   "source": [
    "## Proposed Methodology"
   ]
  },
  {
   "cell_type": "code",
   "execution_count": 34,
   "metadata": {
    "ExecuteTime": {
     "end_time": "2022-11-21T12:44:46.147477Z",
     "start_time": "2022-11-21T12:44:46.140672Z"
    }
   },
   "outputs": [],
   "source": [
    "from nltk.tokenize import WhitespaceTokenizer\n",
    "from nltk.stem import WordNetLemmatizer\n",
    "from numpy import dot\n",
    "from numpy.linalg import norm"
   ]
  },
  {
   "cell_type": "markdown",
   "metadata": {},
   "source": [
    "### Glove Embedding"
   ]
  },
  {
   "cell_type": "code",
   "execution_count": 35,
   "metadata": {
    "ExecuteTime": {
     "end_time": "2022-11-21T12:44:59.129680Z",
     "start_time": "2022-11-21T12:44:46.148429Z"
    }
   },
   "outputs": [],
   "source": [
    "#Pre-trained Glove\n",
    "emmbed_dict = {}\n",
    "with open('glove.6B/glove.6B.200d.txt','r', encoding='utf-8') as f:\n",
    "    for line in f:\n",
    "        values = line.split()\n",
    "        word = values[0]\n",
    "        vector = np.asarray(values[1:],'float32')\n",
    "        emmbed_dict[word]=vector\n",
    "\n",
    "tk = WhitespaceTokenizer()\n",
    "def doc_arr(doc):\n",
    "    doc_vec=0\n",
    "    count=0\n",
    "    for word in tk.tokenize(doc):\n",
    "        if word not in stopwords.words('english'):\n",
    "            count+=1\n",
    "            try:   #because some words meight not present in the Glove\n",
    "                doc_vec+=emmbed_dict[wordnet_lemmatizer.lemmatize(word)]\n",
    "            except:\n",
    "                doc_vec+=0\n",
    "    if count==0:\n",
    "        count=1\n",
    "    return doc_vec/count\n",
    "#Cosine Similarity\n",
    "\n",
    "def cos_sim(a,b):\n",
    "    return dot(a, b)/(norm(a)*norm(b))"
   ]
  },
  {
   "cell_type": "markdown",
   "metadata": {},
   "source": [
    "### Keywords"
   ]
  },
  {
   "cell_type": "code",
   "execution_count": 36,
   "metadata": {
    "ExecuteTime": {
     "end_time": "2022-11-21T12:45:01.243659Z",
     "start_time": "2022-11-21T12:44:59.130878Z"
    }
   },
   "outputs": [],
   "source": [
    "from keybert import KeyBERT"
   ]
  },
  {
   "cell_type": "markdown",
   "metadata": {},
   "source": [
    "##### Change this as per the dataset"
   ]
  },
  {
   "cell_type": "code",
   "execution_count": 37,
   "metadata": {
    "ExecuteTime": {
     "end_time": "2022-11-21T12:45:05.517203Z",
     "start_time": "2022-11-21T12:45:01.244798Z"
    }
   },
   "outputs": [],
   "source": [
    "abstract['label']=['label']*len(abstract)\n",
    "for i in range(0,len(abstract)):\n",
    "    if abstract.iloc[i]['Computer Science']==1:\n",
    "        abstract.at[i,'label']='computer'\n",
    "    else:\n",
    "        if abstract.iloc[i]['Mathematics']==1:\n",
    "            abstract.at[i,'label']='mathematics'\n",
    "        else:\n",
    "            if abstract.iloc[i]['Physics']==1:\n",
    "                abstract.at[i,'label']='physics'\n",
    "            else:\n",
    "                if abstract.iloc[i]['Statistics']==1:\n",
    "                    abstract.at[i,'label']='statistics'\n",
    "                else:\n",
    "                    print(i)"
   ]
  },
  {
   "cell_type": "code",
   "execution_count": 38,
   "metadata": {
    "ExecuteTime": {
     "end_time": "2022-11-21T12:45:05.521789Z",
     "start_time": "2022-11-21T12:45:05.518352Z"
    }
   },
   "outputs": [],
   "source": [
    "result['ABSTRACT'] = abstract['ABSTRACT']\n",
    "result['label'] = abstract['label']"
   ]
  },
  {
   "cell_type": "code",
   "execution_count": 39,
   "metadata": {
    "ExecuteTime": {
     "end_time": "2022-11-21T12:45:05.542242Z",
     "start_time": "2022-11-21T12:45:05.523033Z"
    }
   },
   "outputs": [
    {
     "data": {
      "text/html": [
       "<div>\n",
       "<style scoped>\n",
       "    .dataframe tbody tr th:only-of-type {\n",
       "        vertical-align: middle;\n",
       "    }\n",
       "\n",
       "    .dataframe tbody tr th {\n",
       "        vertical-align: top;\n",
       "    }\n",
       "\n",
       "    .dataframe thead th {\n",
       "        text-align: right;\n",
       "    }\n",
       "</style>\n",
       "<table border=\"1\" class=\"dataframe\">\n",
       "  <thead>\n",
       "    <tr style=\"text-align: right;\">\n",
       "      <th></th>\n",
       "      <th>doc_id</th>\n",
       "      <th>topic_id</th>\n",
       "      <th>level</th>\n",
       "      <th>parent</th>\n",
       "      <th>ABSTRACT</th>\n",
       "      <th>label</th>\n",
       "    </tr>\n",
       "  </thead>\n",
       "  <tbody>\n",
       "    <tr>\n",
       "      <th>7239</th>\n",
       "      <td>7239</td>\n",
       "      <td>2</td>\n",
       "      <td>2</td>\n",
       "      <td>1</td>\n",
       "      <td>inside this paper, we present the new mathemat...</td>\n",
       "      <td>computer</td>\n",
       "    </tr>\n",
       "    <tr>\n",
       "      <th>13072</th>\n",
       "      <td>13072</td>\n",
       "      <td>4</td>\n",
       "      <td>2</td>\n",
       "      <td>1</td>\n",
       "      <td>functional principal component regression  pcr...</td>\n",
       "      <td>statistics</td>\n",
       "    </tr>\n",
       "    <tr>\n",
       "      <th>971</th>\n",
       "      <td>971</td>\n",
       "      <td>2</td>\n",
       "      <td>2</td>\n",
       "      <td>1</td>\n",
       "      <td>we study a problem of variable selection consi...</td>\n",
       "      <td>mathematics</td>\n",
       "    </tr>\n",
       "    <tr>\n",
       "      <th>13495</th>\n",
       "      <td>13495</td>\n",
       "      <td>2</td>\n",
       "      <td>2</td>\n",
       "      <td>1</td>\n",
       "      <td>recent model free reinforcement learning algor...</td>\n",
       "      <td>statistics</td>\n",
       "    </tr>\n",
       "    <tr>\n",
       "      <th>3830</th>\n",
       "      <td>3830</td>\n",
       "      <td>4</td>\n",
       "      <td>2</td>\n",
       "      <td>1</td>\n",
       "      <td>the class of methods considering measuring tim...</td>\n",
       "      <td>physics</td>\n",
       "    </tr>\n",
       "  </tbody>\n",
       "</table>\n",
       "</div>"
      ],
      "text/plain": [
       "       doc_id  topic_id  level  parent  \\\n",
       "7239     7239         2      2       1   \n",
       "13072   13072         4      2       1   \n",
       "971       971         2      2       1   \n",
       "13495   13495         2      2       1   \n",
       "3830     3830         4      2       1   \n",
       "\n",
       "                                                ABSTRACT        label  \n",
       "7239   inside this paper, we present the new mathemat...     computer  \n",
       "13072  functional principal component regression  pcr...   statistics  \n",
       "971    we study a problem of variable selection consi...  mathematics  \n",
       "13495  recent model free reinforcement learning algor...   statistics  \n",
       "3830   the class of methods considering measuring tim...      physics  "
      ]
     },
     "execution_count": 39,
     "metadata": {},
     "output_type": "execute_result"
    }
   ],
   "source": [
    "result.sample(5)"
   ]
  },
  {
   "cell_type": "code",
   "execution_count": 40,
   "metadata": {
    "ExecuteTime": {
     "end_time": "2022-11-21T12:52:55.561369Z",
     "start_time": "2022-11-21T12:45:05.543460Z"
    }
   },
   "outputs": [],
   "source": [
    "###################### Candidate Generation ########################################\n",
    "####################################################################################\n",
    "kw_model = KeyBERT(\"all-MiniLM-L6-v2\")\n",
    "tp_data['uni_labelss_brt'] = ['label']*len(tp_data)\n",
    "\n",
    "for i in range(0,len(tp_data)):\n",
    "    topic_id = tp_data.iloc[i]['topic_id']\n",
    "    candidate_terms = tp_data.iloc[i]['topic_terms']\n",
    "    level = tp_data.iloc[i]['level']\n",
    "    \n",
    "    corpus=''\n",
    "    if level == 2:\n",
    "        for abstr in result[result['topic_id']==topic_id]['ABSTRACT']:\n",
    "            corpus=corpus+'\\n'+abstr\n",
    "    elif level == 1:\n",
    "        for abstr in result[result['parent']==topic_id]['ABSTRACT']:\n",
    "            corpus=corpus+'\\n'+abstr\n",
    "    elif level == 0:\n",
    "        for abstr in result['ABSTRACT']:\n",
    "            corpus=corpus+'\\n'+abstr\n",
    "\n",
    "    #collecting all the docs corresponding the topic   \n",
    "    key=[]\n",
    "    key = kw_model.extract_keywords(corpus, keyphrase_ngram_range=(1, 1), stop_words='english', top_n=100, use_mmr=True)\n",
    "    #key carries all the keywords in the respective corpus\n",
    "    lbl=[]\n",
    "    semaphore=0\n",
    "\n",
    "    #for seaching topic of the document not documents belonging to the topic.\n",
    "    wrd_keys=[]\n",
    "    for keys in key:\n",
    "        wrd_keys.append(keys[0])\n",
    "\n",
    "    for wrds in candidate_terms:\n",
    "        if wrds in wrd_keys:\n",
    "            lbl.append(wrds)\n",
    "            semaphore=1    \n",
    "\n",
    "    if semaphore==0:\n",
    "        lbl.append('SpamNoMatch')\n",
    "\n",
    "    #storing all the keywords   \n",
    "    for ids in tp_data[tp_data['topic_id']==topic_id].index:\n",
    "        #tp_data.at[ids,'uni_label_brt']=lbl[0]\n",
    "        tp_data.at[ids,'uni_labelss_brt']=tuple(lbl) #we can use tuple, however str is better\n",
    "        if tp_data.at[ids,'topic_id']!=topic_id:\n",
    "            print('alert. Topic id mismatch')\n",
    "    \n",
    "    if len(tp_data[tp_data['uni_labelss_brt']=='SpamNoMatch'])>0:\n",
    "        print('No Intersection among keyword and topic terms in',len(tp_data[tp_data['uni_label_brt']=='SpamNoMatch']),'of', name)\n",
    "    "
   ]
  },
  {
   "cell_type": "code",
   "execution_count": 41,
   "metadata": {
    "ExecuteTime": {
     "end_time": "2022-11-21T13:03:10.301268Z",
     "start_time": "2022-11-21T12:52:55.562710Z"
    }
   },
   "outputs": [],
   "source": [
    "################### Candidate Ranking ##############################\n",
    "###################################################################\n",
    "candidate_label_df=[]\n",
    "candidate_label_df=pd.DataFrame(columns=['candidate','method_similarity','topic_id','domain_sim'])\n",
    "final_label=[]\n",
    "\n",
    "wordnet_lemmatizer = WordNetLemmatizer()\n",
    "for i in range(0,len(tp_data)):\n",
    "    topic_id = tp_data.iloc[i]['topic_id']\n",
    "    candidate_terms = tp_data.iloc[i]['topic_terms']\n",
    "    level = tp_data.iloc[i]['level']\n",
    "    sota_label = tp_data.iloc[i]['label'] #later planning to rename it sota_lable\n",
    "    \n",
    "    corpus=''\n",
    "    if level == 2:\n",
    "        corpus = list(result[result['topic_id']==topic_id]['ABSTRACT'])\n",
    "        domain_labels = result[result['topic_id']==topic_id]['label'].unique() #need further\n",
    "    elif level == 1:\n",
    "        corpus = list(result[result['parent']==topic_id]['ABSTRACT'])\n",
    "        domain_labels = result[result['parent']==topic_id]['label'].unique()\n",
    "    elif level == 0:\n",
    "        corpus = list(result['ABSTRACT'])\n",
    "        domain_labels = result['label'].unique()\n",
    "                             \n",
    "\n",
    "    corpus_glove=0\n",
    "    for doc in corpus:\n",
    "        corpus_glove+=doc_arr(doc)\n",
    "    corpus_glove=corpus_glove/len(corpus)   \n",
    "\n",
    "    for k in tp_data[tp_data['topic_id']==topic_id]['uni_labelss_brt']:\n",
    "        label_ranking=[]\n",
    "        for kk in tk.tokenize(str(k)):\n",
    "            try:\n",
    "                sim=cos_sim(corpus_glove,emmbed_dict[wordnet_lemmatizer.lemmatize(re.sub('[^a-zA-Z]','',kk).lower())])\n",
    "                label_ranking.append([wordnet_lemmatizer.lemmatize(re.sub('[^a-zA-Z]','',kk).lower()),sim])\n",
    "            except:\n",
    "                sim=0\n",
    "                label_ranking.append([wordnet_lemmatizer.lemmatize(re.sub('[^a-zA-Z]','',kk).lower()),sim])            \n",
    "        \n",
    "    label_ranked = pd.DataFrame(label_ranking, columns=['label','similarity_score'])\n",
    "    #Sota similarity\n",
    "    try:\n",
    "        sota_sim = cos_sim(corpus_glove,emmbed_dict[wordnet_lemmatizer.lemmatize(re.sub('[^a-zA-Z]','',sota_label).lower())])\n",
    "    except:\n",
    "        sota_sim = 0\n",
    "\n",
    "    #Gold Similarity\n",
    "    #domain_labels = result[result['topic_id']==topic_id]['genre'].unique()\n",
    "    domain_sim=0\n",
    "    for j in range(0,len(domain_labels)):\n",
    "        domain_sim+=cos_sim(corpus_glove,emmbed_dict[wordnet_lemmatizer.lemmatize(re.sub('[^a-zA-Z]','',domain_labels[j]).lower())])\n",
    "    \n",
    "    domain_sim=domain_sim/len(domain_labels) #avg nymber of domains it belongs    \n",
    "\n",
    "    final_label.append([topic_id,label_ranked.sort_values('similarity_score', ascending=False).iloc[0]['label'],label_ranked.sort_values('similarity_score', ascending=False).iloc[0]['similarity_score'], tuple(domain_labels),domain_sim,sota_label,sota_sim])\n",
    "   \n",
    "   \n",
    "\n",
    "#result_glove=pd.DataFrame(final,columns=['topic_id','gold_sim','Label','Label_sim'])\n",
    "#result_name='result_glove_uni_clean_desc_%s.csv'%epsilon\n",
    "#candidate_name='candidate_glove_uni_clean_desc_%s.csv'%epsilon\n",
    "\n",
    "#result_glove.to_csv(result_name, index=False)\n",
    "#candidate_label_df.to_csv(candidate_name, index=False)    "
   ]
  },
  {
   "cell_type": "code",
   "execution_count": 42,
   "metadata": {
    "ExecuteTime": {
     "end_time": "2022-11-21T13:03:10.306594Z",
     "start_time": "2022-11-21T13:03:10.302709Z"
    }
   },
   "outputs": [],
   "source": [
    "final = pd.DataFrame(final_label,columns=['topic_id','method_label','method_sim','dataset_label','dataset_label_score','sota_label','sota_sim'])"
   ]
  },
  {
   "cell_type": "code",
   "execution_count": 43,
   "metadata": {
    "ExecuteTime": {
     "end_time": "2022-11-21T13:03:10.315687Z",
     "start_time": "2022-11-21T13:03:10.308040Z"
    }
   },
   "outputs": [
    {
     "name": "stdout",
     "output_type": "stream",
     "text": [
      "8.377342745661736 8.028272782762844 2.0000880397856236\n"
     ]
    }
   ],
   "source": [
    "print(sum(final['method_sim']),sum(final['dataset_label_score']),sum(final['sota_sim']))"
   ]
  },
  {
   "cell_type": "code",
   "execution_count": null,
   "metadata": {
    "ExecuteTime": {
     "end_time": "2022-11-21T13:03:10.338290Z",
     "start_time": "2022-11-21T13:03:10.317056Z"
    }
   },
   "outputs": [],
   "source": [
    "final['level']=tp_data['level']\n",
    "final"
   ]
  },
  {
   "cell_type": "code",
   "execution_count": 45,
   "metadata": {
    "ExecuteTime": {
     "end_time": "2022-11-21T13:03:10.349539Z",
     "start_time": "2022-11-21T13:03:10.339665Z"
    }
   },
   "outputs": [],
   "source": [
    "name='FinalOutputCleanAbstract_alpha_%s.csv'%(alpha)\n",
    "final.to_csv(name,index=False)"
   ]
  },
  {
   "cell_type": "markdown",
   "metadata": {},
   "source": [
    "### Analysis"
   ]
  },
  {
   "cell_type": "code",
   "execution_count": 1,
   "metadata": {
    "ExecuteTime": {
     "end_time": "2023-01-06T08:23:38.891677Z",
     "start_time": "2023-01-06T08:23:38.634332Z"
    }
   },
   "outputs": [],
   "source": [
    "import pandas as pd"
   ]
  },
  {
   "cell_type": "code",
   "execution_count": 14,
   "metadata": {
    "ExecuteTime": {
     "end_time": "2023-01-06T08:25:50.927990Z",
     "start_time": "2023-01-06T08:25:50.912247Z"
    }
   },
   "outputs": [],
   "source": [
    "file = pd.read_csv('FinalOutputCleanAbstract_alpha_7.csv')\n",
    "#file.head()\n",
    "\n",
    "file.rename(columns={'method_sim':'Proposed Methodology Similarity','dataset_label_score':'Dataset Label Similarity', 'sota_sim':'TWL Label Similarity'}, inplace=True)\n",
    "#file.head()\n",
    "data_types_dict = {'Proposed Methodology Similarity': float,'Dataset Label Similarity': float, 'TWL Label Similarity':float}\n",
    "file = file.astype(data_types_dict)\n",
    "a=file.sort_values(by='topic_id')\n",
    "a.reset_index(inplace=True)\n",
    "#a.head()"
   ]
  },
  {
   "cell_type": "code",
   "execution_count": 15,
   "metadata": {
    "ExecuteTime": {
     "end_time": "2023-01-06T08:25:52.020663Z",
     "start_time": "2023-01-06T08:25:52.016577Z"
    }
   },
   "outputs": [
    {
     "data": {
      "text/plain": [
       "9.0"
      ]
     },
     "execution_count": 15,
     "metadata": {},
     "output_type": "execute_result"
    }
   ],
   "source": [
    "len(a)/3"
   ]
  },
  {
   "cell_type": "code",
   "execution_count": 16,
   "metadata": {
    "ExecuteTime": {
     "end_time": "2023-01-06T08:25:55.402372Z",
     "start_time": "2023-01-06T08:25:55.396416Z"
    }
   },
   "outputs": [],
   "source": [
    "df=pd.DataFrame()\n",
    "\n",
    "metho=[]\n",
    "data_la=[]\n",
    "twl_lab=[]\n",
    "topic = []"
   ]
  },
  {
   "cell_type": "code",
   "execution_count": 17,
   "metadata": {
    "ExecuteTime": {
     "end_time": "2023-01-06T08:25:59.157375Z",
     "start_time": "2023-01-06T08:25:59.140907Z"
    }
   },
   "outputs": [
    {
     "name": "stdout",
     "output_type": "stream",
     "text": [
      "27\n"
     ]
    }
   ],
   "source": [
    "start=0\n",
    "bucket=3#len(a)//6-1\n",
    "for i in range(0,9):\n",
    "    end=start+bucket\n",
    "    metho.append(sum(a['Proposed Methodology Similarity'][start:end])/bucket)\n",
    "    data_la.append(sum(a['Dataset Label Similarity'][start:end])/bucket)\n",
    "    twl_lab.append(sum(a['TWL Label Similarity'][start:end])/bucket)\n",
    "    topic.append('Topic%s-Topic%s'%(start,end-1))\n",
    "    start = end\n",
    "\n",
    "\n",
    "if(start==len(a)):\n",
    "    print(start)\n",
    "else:\n",
    "    bucket = len(a)-start    \n",
    "    end=start+bucket\n",
    "    metho.append(sum(a['Proposed Methodology Similarity'][start:end])/bucket)\n",
    "    data_la.append(sum(a['Dataset Label Similarity'][start:end])/bucket)\n",
    "    twl_lab.append(sum(a['TWL Label Similarity'][start:end])/bucket)\n",
    "    topic.append('Topic%s-Topic%s'%(start,end-1))\n",
    "    start = end"
   ]
  },
  {
   "cell_type": "code",
   "execution_count": 18,
   "metadata": {
    "ExecuteTime": {
     "end_time": "2023-01-06T08:26:03.800138Z",
     "start_time": "2023-01-06T08:26:03.789521Z"
    }
   },
   "outputs": [],
   "source": [
    "df['Topics']=topic\n",
    "df['Dataset Label Similarity'] = data_la\n",
    "df['Proposed Methodology Similarity'] = metho\n",
    "df['TWL Label Similarity'] = twl_lab\n",
    "#df"
   ]
  },
  {
   "cell_type": "markdown",
   "metadata": {},
   "source": [
    "### 3"
   ]
  },
  {
   "cell_type": "code",
   "execution_count": 8,
   "metadata": {
    "ExecuteTime": {
     "end_time": "2023-01-06T07:59:06.026821Z",
     "start_time": "2023-01-06T07:59:05.618813Z"
    }
   },
   "outputs": [
    {
     "data": {
      "text/plain": [
       "Text(0.5, 0, 'Cosine similarity performance of proposed methodology, dataset given labels and SOTA for alpha 3 over App Summary dataset')"
      ]
     },
     "execution_count": 8,
     "metadata": {},
     "output_type": "execute_result"
    },
    {
     "data": {
      "image/png": "[encoded data removed]",
      "text/plain": [
       "<Figure size 720x648 with 1 Axes>"
      ]
     },
     "metadata": {
      "needs_background": "light"
     },
     "output_type": "display_data"
    }
   ],
   "source": [
    "fig = df.plot(x='Topics',y=['Dataset Label Similarity','Proposed Methodology Similarity','TWL Label Similarity'], kind='bar',figsize=(10,9), xlabel=\"\", legend=False, fontsize=16)\n",
    "fig.set_xlabel('Cosine similarity performance of proposed methodology, dataset given labels and SOTA for alpha 3 over Abstract dataset',fontdict={'fontsize':12})"
   ]
  },
  {
   "cell_type": "markdown",
   "metadata": {},
   "source": [
    "### 4"
   ]
  },
  {
   "cell_type": "code",
   "execution_count": 14,
   "metadata": {
    "ExecuteTime": {
     "end_time": "2023-01-06T08:01:16.237480Z",
     "start_time": "2023-01-06T08:01:15.949242Z"
    }
   },
   "outputs": [
    {
     "data": {
      "text/plain": [
       "Text(0.5, 0, 'Cosine similarity performance of proposed methodology, dataset given labels and SOTA for alpha 4 over App Summary dataset')"
      ]
     },
     "execution_count": 14,
     "metadata": {},
     "output_type": "execute_result"
    },
    {
     "data": {
      "image/png": "[encoded data removed]",
      "text/plain": [
       "<Figure size 720x648 with 1 Axes>"
      ]
     },
     "metadata": {
      "needs_background": "light"
     },
     "output_type": "display_data"
    }
   ],
   "source": [
    "fig = df.plot(x='Topics',y=['Dataset Label Similarity','Proposed Methodology Similarity','TWL Label Similarity'], kind='bar',figsize=(10,9), xlabel=\"\", legend=False, fontsize=16)\n",
    "fig.set_xlabel('Cosine similarity performance of proposed methodology, dataset given labels and SOTA for alpha 4 over Abstract dataset',fontdict={'fontsize':12})"
   ]
  },
  {
   "cell_type": "markdown",
   "metadata": {},
   "source": [
    "### 5"
   ]
  },
  {
   "cell_type": "code",
   "execution_count": 7,
   "metadata": {
    "ExecuteTime": {
     "end_time": "2023-01-06T08:24:06.677934Z",
     "start_time": "2023-01-06T08:24:06.170606Z"
    }
   },
   "outputs": [
    {
     "data": {
      "text/plain": [
       "Text(0.5, 0, 'Cosine similarity performance of proposed methodology, dataset given labels and SOTA for alpha 5 over App Summary dataset')"
      ]
     },
     "execution_count": 7,
     "metadata": {},
     "output_type": "execute_result"
    },
    {
     "data": {
      "image/png": "[encoded data removed]",
      "text/plain": [
       "<Figure size 720x648 with 1 Axes>"
      ]
     },
     "metadata": {
      "needs_background": "light"
     },
     "output_type": "display_data"
    }
   ],
   "source": [
    "fig = df.plot(x='Topics',y=['Dataset Label Similarity','Proposed Methodology Similarity','TWL Label Similarity'], kind='bar',figsize=(10,9), xlabel=\"\", legend=False, fontsize=16)\n",
    "fig.set_xlabel('Cosine similarity performance of proposed methodology, dataset given labels and SOTA for alpha 5 over Abstract dataset',fontdict={'fontsize':12})"
   ]
  },
  {
   "cell_type": "markdown",
   "metadata": {},
   "source": [
    "### 6"
   ]
  },
  {
   "cell_type": "code",
   "execution_count": 13,
   "metadata": {
    "ExecuteTime": {
     "end_time": "2023-01-06T08:25:18.203678Z",
     "start_time": "2023-01-06T08:25:17.930818Z"
    }
   },
   "outputs": [
    {
     "data": {
      "text/plain": [
       "Text(0.5, 0, 'Cosine similarity performance of proposed methodology, dataset given labels and SOTA for alpha 6 over App Summary dataset')"
      ]
     },
     "execution_count": 13,
     "metadata": {},
     "output_type": "execute_result"
    },
    {
     "data": {
      "image/png": "[encoded data removed]",
      "text/plain": [
       "<Figure size 720x648 with 1 Axes>"
      ]
     },
     "metadata": {
      "needs_background": "light"
     },
     "output_type": "display_data"
    }
   ],
   "source": [
    "fig = df.plot(x='Topics',y=['Dataset Label Similarity','Proposed Methodology Similarity','TWL Label Similarity'], kind='bar',figsize=(10,9), xlabel=\"\", legend=False, fontsize=16)\n",
    "fig.set_xlabel('Cosine similarity performance of proposed methodology, dataset given labels and SOTA for alpha 6 over Abstract dataset',fontdict={'fontsize':12})"
   ]
  },
  {
   "cell_type": "markdown",
   "metadata": {},
   "source": [
    "### 7"
   ]
  },
  {
   "cell_type": "code",
   "execution_count": 22,
   "metadata": {
    "ExecuteTime": {
     "end_time": "2023-01-06T08:30:40.127990Z",
     "start_time": "2023-01-06T08:30:39.869073Z"
    }
   },
   "outputs": [
    {
     "data": {
      "text/plain": [
       "Text(0.5, 0, 'Cosine similarity performance of proposed methodology, dataset given labels and SOTA for alpha 7 over App Summary dataset')"
      ]
     },
     "execution_count": 22,
     "metadata": {},
     "output_type": "execute_result"
    },
    {
     "data": {
      "image/png": "[encoded data removed]",
      "text/plain": [
       "<Figure size 720x648 with 1 Axes>"
      ]
     },
     "metadata": {
      "needs_background": "light"
     },
     "output_type": "display_data"
    }
   ],
   "source": [
    "fig = df.plot(x='Topics',y=['Dataset Label Similarity','Proposed Methodology Similarity','TWL Label Similarity'], kind='bar',figsize=(10,9), xlabel=\"\", legend=False, fontsize=16)\n",
    "fig.set_xlabel('Cosine similarity performance of proposed methodology, dataset given labels and SOTA for alpha 7 over Abstract dataset',fontdict={'fontsize':12})"
   ]
  }
 ],
 "metadata": {
  "kernelspec": {
   "display_name": "Python 3",
   "language": "python",
   "name": "python3"
  },
  "language_info": {
   "codemirror_mode": {
    "name": "ipython",
    "version": 3
   },
   "file_extension": ".py",
   "mimetype": "text/x-python",
   "name": "python",
   "nbconvert_exporter": "python",
   "pygments_lexer": "ipython3",
   "version": "3.7.3"
  }
 },
 "nbformat": 4,
 "nbformat_minor": 5
}
