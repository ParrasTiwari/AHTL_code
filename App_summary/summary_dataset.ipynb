{
 "cells": [
  {
   "cell_type": "code",
   "execution_count": null,
   "metadata": {},
   "outputs": [],
   "source": [
    "from itertools import count\n",
    "import re\n",
    "import time\n",
    "from nltk.corpus import stopwords \n",
    "from hlda.sampler import HierarchicalLDA\n",
    "\n",
    "import pandas as pd\n",
    "import numpy as np\n",
    "\n",
    "from warnings import filterwarnings\n",
    "filterwarnings('ignore')\n",
    "from sklearn.feature_extraction.text import CountVectorizer\n",
    "import math"
   ]
  },
  {
   "cell_type": "markdown",
   "metadata": {},
   "source": [
    "### Dataset dependent processing"
   ]
  },
  {
   "cell_type": "code",
   "execution_count": null,
   "metadata": {},
   "outputs": [],
   "source": [
    "#saved the file after cleaning to save multiple experimentation time\n",
    "abstract=pd.read_csv('Clean/summary_clean_file.csv')\n",
    "abstract['ABSTRACT']=abstract['clean_summary']"
   ]
  },
  {
   "cell_type": "code",
   "execution_count": null,
   "metadata": {},
   "outputs": [],
   "source": [
    "# delete personalization\n",
    "index_names = abstract[abstract['genre']==\"Personalization\"].index\n",
    "abstract.drop(index_names, inplace=True)\n",
    "abstract = abstract.reset_index(drop=True)"
   ]
  },
  {
   "cell_type": "code",
   "execution_count": null,
   "metadata": {},
   "outputs": [],
   "source": [
    "# stop loss words \n",
    "stop = set(stopwords.words('english'))\n",
    "def clean(doc):\n",
    "    normalized=''\n",
    "    # normalize and lemmatize the text\n",
    "    for word in doc.split():\n",
    "        if word not in stop:\n",
    "            normalized = normalized + ' '+ word.lower()\n",
    "    return normalized.strip()"
   ]
  },
  {
   "cell_type": "code",
   "execution_count": null,
   "metadata": {},
   "outputs": [],
   "source": [
    "# clean data stored in a new list\n",
    "clean_corpus = []\n",
    "clean_corpus = [clean(doc) for doc in abstract['ABSTRACT']] "
   ]
  },
  {
   "cell_type": "code",
   "execution_count": null,
   "metadata": {},
   "outputs": [],
   "source": [
    "#Create vocab\n",
    "vocab = set()\n",
    "for doc in clean_corpus:\n",
    "    for w in doc.split():\n",
    "        if w not in vocab:\n",
    "            vocab.add(w)"
   ]
  },
  {
   "cell_type": "code",
   "execution_count": null,
   "metadata": {},
   "outputs": [],
   "source": [
    "# For further analysis. term-index\n",
    "vocab = sorted(list(vocab))\n",
    "vocab_index = {}\n",
    "vocab_word_index={}\n",
    "for i, w in enumerate(vocab):\n",
    "    vocab_index[w] = i\n",
    "    vocab_word_index[i] = w"
   ]
  },
  {
   "cell_type": "code",
   "execution_count": null,
   "metadata": {},
   "outputs": [],
   "source": [
    "# Doc-Term matrix\n",
    "new_corpus = []\n",
    "for doc in clean_corpus:\n",
    "    new_doc = []\n",
    "    for word in doc.split():\n",
    "        word_idx = vocab_index[word]\n",
    "        new_doc.append(word_idx)\n",
    "    new_corpus.append(new_doc)"
   ]
  },
  {
   "cell_type": "markdown",
   "metadata": {},
   "source": [
    "### Train"
   ]
  },
  {
   "cell_type": "markdown",
   "metadata": {},
   "source": [
    "##### HyperParameters"
   ]
  },
  {
   "cell_type": "code",
   "execution_count": null,
   "metadata": {},
   "outputs": [],
   "source": [
    "vocab = np.array(vocab)\n",
    "# In[52]:\n",
    "n_samples = 10        # no of iterations for the sampler\n",
    "alpha = 5          # smoothing over level distributions\n",
    "gamma = .5           # CRP smoothing parameter; number of imaginary customers at next, as yet unused table\n",
    "eta = 0.9             # smoothing over topic-word distributions\n",
    "num_levels = 3        # the number of levels in the tree\n",
    "display_topics = 10    # the number of iterations between printing a brief summary of the topics so far\n",
    "n_words = 100           # the number of most probable words to print for each topic after model estimation\n",
    "with_weights = True  # whether to print the words with the weights"
   ]
  },
  {
   "cell_type": "code",
   "execution_count": null,
   "metadata": {},
   "outputs": [],
   "source": [
    "print('training cell with ', alpha)\n",
    "start = time.time()"
   ]
  },
  {
   "cell_type": "code",
   "execution_count": null,
   "metadata": {},
   "outputs": [],
   "source": [
    "%%capture captured\n",
    "hlda = HierarchicalLDA(new_corpus, vocab, num_levels=num_levels,eta=eta,alpha=alpha, gamma=gamma)\n",
    "hlda.estimate(n_samples, display_topics=display_topics, n_words=n_words, with_weights=with_weights)"
   ]
  },
  {
   "cell_type": "code",
   "execution_count": null,
   "metadata": {},
   "outputs": [],
   "source": [
    "res=[]\n",
    "for i in range(0,len(new_corpus)):\n",
    "    #print(i, \" : \", hlda.document_leaves[i])\n",
    "    leaf = str(hlda.document_leaves[i])\n",
    "    topic_id = leaf.split()[0].split(\"=\")[1]\n",
    "    level = leaf.split()[1].split(\"=\")[1]\n",
    "    parent = leaf.split()[-1].split(\"=\")[1]\n",
    "    res.append([int(i),int(topic_id),int(level),int(parent)])\n",
    "#print(result)"
   ]
  },
  {
   "cell_type": "code",
   "execution_count": null,
   "metadata": {},
   "outputs": [],
   "source": [
    "result=pd.DataFrame(res, columns=['doc_id', 'topic_id', 'level','parent'])\n",
    "num_topic = result['topic_id'].nunique()\n",
    "end = time.time()\n",
    "print('time taken for one ', (end-start)/60)\n",
    "print(num_topic,' number of topics for alpha ', alpha)"
   ]
  },
  {
   "cell_type": "code",
   "execution_count": null,
   "metadata": {},
   "outputs": [],
   "source": [
    "name='CleanSummary_alpha_%s_topic_%s'%(alpha,result['topic_id'].nunique())\n",
    "with open(name, 'w') as f:\n",
    "    f.write(captured.stdout)"
   ]
  },
  {
   "cell_type": "markdown",
   "metadata": {},
   "source": [
    "##### topic_id| candidate_term | level | parent"
   ]
  },
  {
   "cell_type": "code",
   "execution_count": null,
   "metadata": {},
   "outputs": [],
   "source": [
    "#open text file in read mode\n",
    "text_file = open(name, \"r\")\n",
    "#read whole file to a string\n",
    "data = text_file.read()\n",
    "#close file\n",
    "text_file.close()\n",
    "\n",
    "length = len(data.split('\\n'))\n",
    "\n",
    "#length\n",
    "\n",
    "data_lines = data.split('\\n')"
   ]
  },
  {
   "cell_type": "code",
   "execution_count": null,
   "metadata": {},
   "outputs": [],
   "source": [
    "topic_data = []\n",
    "dt_line = data_lines[length-1]\n",
    "cnt = length-1\n",
    "while(len(dt_line)==0 or dt_line[0]!='.'): #we need only last iteration\n",
    "    if(len(dt_line)==0):\n",
    "        cnt = cnt-1\n",
    "        dt_line = data_lines[cnt]\n",
    "        continue\n",
    "    topic_id = dt_line.split()[0].split('=')[1]\n",
    "    level = dt_line.split()[1].split('=')[1]\n",
    "    terms=[]\n",
    "    for n in range(3,n_words*2+3,2):\n",
    "        terms.append(data_lines[cnt].split()[n])\n",
    "    topic_data.append([int(topic_id),int(level), terms])\n",
    "    cnt = cnt-1\n",
    "    dt_line = data_lines[cnt]"
   ]
  },
  {
   "cell_type": "code",
   "execution_count": null,
   "metadata": {},
   "outputs": [],
   "source": [
    "tp_data=pd.DataFrame(topic_data, columns=['topic_id','level','topic_terms'])\n",
    "\n",
    "tp_data.sample(5)"
   ]
  },
  {
   "cell_type": "markdown",
   "metadata": {},
   "source": [
    "#### SOTA"
   ]
  },
  {
   "cell_type": "markdown",
   "metadata": {},
   "source": [
    "##### number of words in topic"
   ]
  },
  {
   "cell_type": "code",
   "execution_count": null,
   "metadata": {},
   "outputs": [],
   "source": [
    "def vector(topic_id,node):\n",
    "    vectorizer = CountVectorizer()\n",
    "    document=[]\n",
    "    if node=='leaf':\n",
    "        for doc_id in result[result['topic_id']==topic_id]['doc_id']:\n",
    "               document.append(abstract['ABSTRACT'].iloc[doc_id])\n",
    "        vectorizer.fit(document)\n",
    "    elif node=='parent':\n",
    "        for doc_id in result[result['parent']==topic_id]['doc_id']: #only to change\n",
    "               document.append(abstract['ABSTRACT'].iloc[doc_id])\n",
    "        vectorizer.fit(document)\n",
    "    elif node=='grandparent':\n",
    "        for doc_id in result['doc_id']:\n",
    "            document.append(abstract['ABSTRACT'].iloc[doc_id])\n",
    "        vectorizer.fit(document)\n",
    "    return vectorizer"
   ]
  },
  {
   "cell_type": "code",
   "execution_count": null,
   "metadata": {},
   "outputs": [],
   "source": [
    "leaf_vec = dict()\n",
    "for t_id in result['topic_id'].unique():\n",
    "    leaf_vec[t_id]=vector(t_id,'leaf')\n",
    "\n",
    "level_one = dict()\n",
    "for t_id in result['parent'].unique():\n",
    "    level_one[t_id]=vector(t_id,'parent')\n",
    "\n",
    "level_zero = dict()\n",
    "t_id = 0\n",
    "level_zero[t_id]=vector(t_id,'grandparent')"
   ]
  },
  {
   "cell_type": "markdown",
   "metadata": {},
   "source": [
    "##### number of doc has term"
   ]
  },
  {
   "cell_type": "code",
   "execution_count": null,
   "metadata": {},
   "outputs": [],
   "source": [
    "from collections import defaultdict"
   ]
  },
  {
   "cell_type": "code",
   "execution_count": null,
   "metadata": {},
   "outputs": [],
   "source": [
    "def doc_number(topic_id,node):\n",
    "    documents=[]\n",
    "    number_word_dict=defaultdict(list)\n",
    "    if node=='leaf':\n",
    "        for doc_id in result[result['topic_id']==t_id]['doc_id']:\n",
    "            words=set(abstract['ABSTRACT'].iloc[doc_id].split())\n",
    "            for wrd in words:\n",
    "                number_word_dict[wrd].append(doc_id)\n",
    "    elif node=='parent':\n",
    "        for doc_id in result[result['parent']==t_id]['doc_id']:\n",
    "            words=set(abstract['ABSTRACT'].iloc[doc_id].split())\n",
    "            for wrd in words:\n",
    "                number_word_dict[wrd].append(doc_id)\n",
    "    elif node=='grandparent':\n",
    "        for doc_id in result['doc_id']:\n",
    "            words=set(abstract['ABSTRACT'].iloc[doc_id].split())\n",
    "            for wrd in words:\n",
    "                number_word_dict[wrd].append(doc_id)\n",
    "    return number_word_dict"
   ]
  },
  {
   "cell_type": "code",
   "execution_count": null,
   "metadata": {},
   "outputs": [],
   "source": [
    "leaf_number_doc = dict()\n",
    "\n",
    "for t_id in result['topic_id'].unique():\n",
    "    leaf_number_doc[t_id]=doc_number(t_id,'leaf')\n",
    "\n",
    "levelONE_number_doc = dict()\n",
    "for t_id in result['parent'].unique():\n",
    "    levelONE_number_doc[t_id]=doc_number(t_id,'parent')"
   ]
  },
  {
   "cell_type": "code",
   "execution_count": null,
   "metadata": {},
   "outputs": [],
   "source": [
    "levelZERO_number_doc = dict()\n",
    "\n",
    "t_id=0\n",
    "\n",
    "levelZERO_number_doc[t_id]=doc_number(t_id,'grandparent')"
   ]
  },
  {
   "cell_type": "markdown",
   "metadata": {},
   "source": [
    "#### Level 2|| Leaf"
   ]
  },
  {
   "cell_type": "code",
   "execution_count": null,
   "metadata": {},
   "outputs": [],
   "source": [
    "def stat_2(topic_j, topic_k, candidate_term): #j should be original and k is child\n",
    "    a1 = s1_2(topic_k, candidate_term)\n",
    "    a2 = s2_2(topic_j, candidate_term)\n",
    "    a3 = a2 #s3_2(topic_j, candidate_term) #Since s3_2 is same as s2_2\n",
    "    #print(a1,a2,a3)\n",
    "    return a1*a2*a3"
   ]
  },
  {
   "cell_type": "code",
   "execution_count": null,
   "metadata": {},
   "outputs": [],
   "source": [
    "#S1= Idf of term * term frequency in corpus\n",
    "\n",
    "def s1_2(topic_id, term):\n",
    "    #number of doc in topic=topic_id; VERIFIED\n",
    "    doc_in_tid=len(result[result['topic_id']==topic_id])\n",
    "    #number of doc has term\n",
    "    if term in leaf_number_doc[topic_id]:\n",
    "        doc_n = len(leaf_number_doc[topic_id][term])\n",
    "    else:\n",
    "        doc_n=1\n",
    "    #number of times term in topic_id\n",
    "    if term in leaf_vec[topic_id].vocabulary_:\n",
    "        tf=leaf_vec[topic_id].vocabulary_[term]\n",
    "    else:\n",
    "        tf=0\n",
    "    score= math.log(doc_in_tid/doc_n + 1)*tf\n",
    "    return score"
   ]
  },
  {
   "cell_type": "code",
   "execution_count": null,
   "metadata": {},
   "outputs": [],
   "source": [
    "#S2= Parent tf-idf\n",
    "\n",
    "def s2_2(topic_id, term):\n",
    "    #parent-id\n",
    "    p_topic_id=result[result['topic_id']==topic_id]['parent'].unique()\n",
    "    #number of doc in parent_id\n",
    "    doc_n = len(result[result['parent']==p_topic_id[0]]['doc_id']) #p_topic_id[0]; since only 1 parent possible\n",
    "    #number of doc p_topic_id has term\n",
    "    if term in levelONE_number_doc[p_topic_id[0]]:\n",
    "        tf=len(levelONE_number_doc[p_topic_id[0]][term])\n",
    "    else:\n",
    "        tf=1\n",
    "    #Log idf in corpus\n",
    "    score = math.log(doc_n/tf+1)\n",
    "    return score"
   ]
  },
  {
   "cell_type": "markdown",
   "metadata": {},
   "source": [
    "#### Level 1 || Parent"
   ]
  },
  {
   "cell_type": "code",
   "execution_count": null,
   "metadata": {},
   "outputs": [],
   "source": [
    "def stat_1(topic_j, topic_k, candidate_term): #j shuld be original and k is child\n",
    "    a1 = s1_1(topic_k, candidate_term)\n",
    "    a2 = s2_1(topic_j, candidate_term)\n",
    "    a3 = s3_1(topic_j, candidate_term)\n",
    "    return a1*a2*a3"
   ]
  },
  {
   "cell_type": "code",
   "execution_count": null,
   "metadata": {},
   "outputs": [],
   "source": [
    "def s1_1(topic_id, term):\n",
    "    #number of doc in topic=topic_id; VERIFIED\n",
    "    doc_in_tid=len(result[result['topic_id']==topic_id])\n",
    "    #number of doc has term\n",
    "    if term in leaf_number_doc[topic_id]:\n",
    "        doc_n = len(leaf_number_doc[topic_id][term])\n",
    "    else:\n",
    "        doc_n = 1\n",
    "    #number of times term in topic_id\n",
    "    if term in leaf_vec[topic_id].vocabulary_:\n",
    "        tf=leaf_vec[topic_id].vocabulary_[term]\n",
    "    else:\n",
    "        tf=1\n",
    "    score= math.log(doc_in_tid/doc_n + 1)*tf\n",
    "    return score"
   ]
  },
  {
   "cell_type": "code",
   "execution_count": null,
   "metadata": {},
   "outputs": [],
   "source": [
    "def s2_1(topic_id, term):\n",
    "    #parent-id\n",
    "    p_topic_id = 0\n",
    "    #number of doc in parent_id (aka Grandparent)\n",
    "    doc_n = len(result)\n",
    "    #number of doc p_topic_id has term\n",
    "    if term in levelZERO_number_doc[p_topic_id]:\n",
    "        tf=len(levelZERO_number_doc[p_topic_id][term])\n",
    "    else:\n",
    "        tf=1\n",
    "    #Log idf in corpus\n",
    "    score = math.log(doc_n/tf+1)\n",
    "    return score"
   ]
  },
  {
   "cell_type": "code",
   "execution_count": null,
   "metadata": {},
   "outputs": [],
   "source": [
    "def s3_1(topic_id, term):\n",
    "    #direct child\n",
    "    child = result[result['parent']==topic_id]['topic_id'].unique()\n",
    "    #number of direct child\n",
    "    number_of_child = len(child)\n",
    "    #number of direct child has term\n",
    "    child_term_count = 0\n",
    "    for direct_child in child:\n",
    "        if term in leaf_number_doc[direct_child]:\n",
    "            child_term_count+=1\n",
    "    #number of doc in topic_id/parent has term\n",
    "    if term in levelONE_number_doc[topic_id]:\n",
    "        term_doc = len(levelONE_number_doc[topic_id][term])\n",
    "    else:\n",
    "        term_doc = 1\n",
    "    #if none of the child has the term\n",
    "    if child_term_count==0:\n",
    "        child_term_count=1\n",
    "    #number of doc in parent/topic_id\n",
    "    doc_n = len(result[result['parent']==topic_id]['doc_id'])\n",
    "    score = math.log(number_of_child/child_term_count + 1)*math.exp(term_doc/doc_n)\n",
    "\n",
    "    return score  "
   ]
  },
  {
   "cell_type": "markdown",
   "metadata": {},
   "source": [
    "#### Level 0 || Grandparent"
   ]
  },
  {
   "cell_type": "code",
   "execution_count": null,
   "metadata": {},
   "outputs": [],
   "source": [
    "def stat_0(topic_j, topic_k, candidate_term): #j shuld be original and k is child\n",
    "    a1 = s1_0(topic_k, candidate_term)\n",
    "    a2 = s2_0(topic_j, candidate_term)\n",
    "    a3 = s3_0(topic_j, candidate_term)\n",
    "    return a1*a2*a3"
   ]
  },
  {
   "cell_type": "code",
   "execution_count": null,
   "metadata": {},
   "outputs": [],
   "source": [
    "def s1_0(topic_id, term):\n",
    "    #number of doc in topic-id\n",
    "    doc_in_tid = len(result[result['parent']==topic_id]['doc_id']) #since child of grandparent is parent\n",
    "    #number of doc has term\n",
    "    if term in levelONE_number_doc[topic_id]:\n",
    "        doc_n = len(levelONE_number_doc[topic_id][term])\n",
    "    else:\n",
    "        doc_n=1\n",
    "    #number of times term in topic_id\n",
    "    if term in level_one[topic_id].vocabulary_:\n",
    "        tf = level_one[topic_id].vocabulary_[term]\n",
    "    else:\n",
    "        tf=0\n",
    "    score= math.log(doc_in_tid/doc_n + 1)*tf\n",
    "    return score"
   ]
  },
  {
   "cell_type": "code",
   "execution_count": null,
   "metadata": {},
   "outputs": [],
   "source": [
    "def s2_0(topic_id, term):\n",
    "    #parent-id\n",
    "    p_topic_id = 0\n",
    "    #number of doc in parent_id (GrandParent so all) contains term;\n",
    "    doc_n = len(result['doc_id'])\n",
    "    #number of doc p_topic_id has term\n",
    "    if term in levelZERO_number_doc[p_topic_id]:\n",
    "        tf=len(levelZERO_number_doc[p_topic_id][term])\n",
    "    else:\n",
    "        tf=0\n",
    "    if tf==0:\n",
    "        tf=1\n",
    "        doc_n=1\n",
    "    #Log idf in corpus\n",
    "    score = math.log(doc_n/tf+1)\n",
    "    return score"
   ]
  },
  {
   "cell_type": "code",
   "execution_count": null,
   "metadata": {},
   "outputs": [],
   "source": [
    "def s3_0(topic_id, term):\n",
    "    #number of direct child\n",
    "    number_of_child = result['parent'].nunique()\n",
    "    #number of direct child has term\n",
    "    child_term_count = 0\n",
    "    for direct_child in result['parent'].unique():\n",
    "        if term in levelONE_number_doc[direct_child]:\n",
    "            child_term_count+=1\n",
    "    #if none of the child has term\n",
    "    if child_term_count==0:\n",
    "        child_term_count=1\n",
    "    #number of doc in Grandparent/topic_id has term\n",
    "    if term in levelZERO_number_doc[0]:\n",
    "        term_doc = len(levelZERO_number_doc[0][term])\n",
    "    else:\n",
    "        term_doc = 1\n",
    "    #number of doc in Grandparent/topic_id\n",
    "    doc_n = len(result)\n",
    "    score = math.log(number_of_child/child_term_count + 1)*math.exp(term_doc/doc_n)\n",
    "    return score"
   ]
  },
  {
   "cell_type": "code",
   "execution_count": null,
   "metadata": {},
   "outputs": [],
   "source": [
    "label=[]\n",
    "start = time.time()\n",
    "for i in range(0,len(tp_data)):\n",
    "    topic_id = tp_data.iloc[i]['topic_id']\n",
    "    candidate_terms = tp_data.iloc[i]['topic_terms']\n",
    "    level = tp_data.iloc[i]['level']\n",
    "    twl_rank = []\n",
    "    if level == 2: #leaf\n",
    "        for cnd_term in candidate_terms:\n",
    "            score=stat_2(topic_id,topic_id,cnd_term)\n",
    "            #frequency of term in the topic\n",
    "            if cnd_term in leaf_vec[topic_id].vocabulary_:\n",
    "                tf = leaf_vec[topic_id].vocabulary_[cnd_term]\n",
    "            else:\n",
    "                tf = 1\n",
    "            twl_rank.append([cnd_term,score*tf])\n",
    "    elif level == 1: #parent\n",
    "        for cnd_term in candidate_terms:\n",
    "            score = 0\n",
    "            k = result[result['parent']==topic_id]['topic_id']\n",
    "            for child_id in k:\n",
    "                #frequency of term in the child_topic\n",
    "                if cnd_term in leaf_vec[child_id].vocabulary_:\n",
    "                    tf = leaf_vec[child_id].vocabulary_[cnd_term]\n",
    "                else:\n",
    "                    tf = 1\n",
    "                score += stat_1(topic_id,child_id,cnd_term)*tf\n",
    "            twl_rank.append([cnd_term,score])\n",
    "    elif level == 0:\n",
    "        for cnd_term in candidate_terms:\n",
    "            score = 0\n",
    "            k = result['parent'].unique()\n",
    "            for child_id in k:\n",
    "                #frequency of term in the child_topic\n",
    "                if cnd_term in level_one[child_id].vocabulary_:\n",
    "                    tf = level_one[child_id].vocabulary_[cnd_term]\n",
    "                else:\n",
    "                    tf = 1\n",
    "                score += stat_0(topic_id,child_id,cnd_term)*tf\n",
    "            twl_rank.append([cnd_term,score])   \n",
    "\n",
    "    twl_df = pd.DataFrame(twl_rank,columns=['term','score'])\n",
    "    lbl = twl_df.sort_values('score', ascending=False).iloc[0]['term']\n",
    "    label.append(lbl)\n",
    "    if i%50==0:\n",
    "        end = time.time()\n",
    "        print('completed till ', i, ' in ',(end-start)/60, ' minutes')\n",
    "        #just to check whether code is running.\n",
    "        start = end\n",
    "\n",
    "tp_data['label']=label"
   ]
  },
  {
   "cell_type": "code",
   "execution_count": null,
   "metadata": {},
   "outputs": [],
   "source": [
    "tp_data"
   ]
  },
  {
   "cell_type": "markdown",
   "metadata": {},
   "source": [
    "### Proposed Methodology"
   ]
  },
  {
   "cell_type": "code",
   "execution_count": null,
   "metadata": {},
   "outputs": [],
   "source": [
    "from nltk.tokenize import WhitespaceTokenizer\n",
    "from nltk.stem import WordNetLemmatizer\n",
    "from numpy import dot\n",
    "from numpy.linalg import norm"
   ]
  },
  {
   "cell_type": "markdown",
   "metadata": {},
   "source": [
    "#### Glove Embedding"
   ]
  },
  {
   "cell_type": "code",
   "execution_count": null,
   "metadata": {},
   "outputs": [],
   "source": [
    "#Pre-trained Glove\n",
    "emmbed_dict = {}\n",
    "with open('glove.6B/glove.6B.200d.txt','r', encoding='utf-8') as f:\n",
    "    for line in f:\n",
    "        values = line.split()\n",
    "        word = values[0]\n",
    "        vector = np.asarray(values[1:],'float32')\n",
    "        emmbed_dict[word]=vector\n",
    "tk = WhitespaceTokenizer()\n",
    "\n",
    "def doc_arr(doc):\n",
    "    doc_vec=0\n",
    "    count=0\n",
    "    for word in tk.tokenize(doc):\n",
    "        if word not in stopwords.words('english'):\n",
    "            count+=1\n",
    "            try:   #because some words meight not present in the Glove\n",
    "                doc_vec+=emmbed_dict[wordnet_lemmatizer.lemmatize(word)]\n",
    "            except:\n",
    "                doc_vec+=0\n",
    "    if count==0:\n",
    "        count=1\n",
    "    return doc_vec/count\n",
    "\n",
    "#Cosine Similarity\n",
    "def cos_sim(a,b):\n",
    "    return dot(a, b)/(norm(a)*norm(b))"
   ]
  },
  {
   "cell_type": "markdown",
   "metadata": {},
   "source": [
    "#### Keywords"
   ]
  },
  {
   "cell_type": "code",
   "execution_count": null,
   "metadata": {},
   "outputs": [],
   "source": [
    "from keybert import KeyBERT"
   ]
  },
  {
   "cell_type": "markdown",
   "metadata": {},
   "source": [
    "###### Change this as per the dataset"
   ]
  },
  {
   "cell_type": "code",
   "execution_count": null,
   "metadata": {},
   "outputs": [],
   "source": [
    "result['ABSTRACT'] = abstract['ABSTRACT']\n",
    "result['label'] = abstract['label']"
   ]
  },
  {
   "cell_type": "code",
   "execution_count": null,
   "metadata": {},
   "outputs": [],
   "source": [
    "result.sample(5)"
   ]
  },
  {
   "cell_type": "code",
   "execution_count": null,
   "metadata": {},
   "outputs": [],
   "source": [
    "###################### Candidate Generation ########################################\n",
    "\n",
    "####################################################################################\n",
    "\n",
    "kw_model = KeyBERT(\"all-MiniLM-L6-v2\")\n",
    "tp_data['uni_labelss_brt'] = ['label']*len(tp_data)\n",
    "\n",
    "for i in range(0,len(tp_data)):\n",
    "    topic_id = tp_data.iloc[i]['topic_id']\n",
    "    candidate_terms = tp_data.iloc[i]['topic_terms']\n",
    "    level = tp_data.iloc[i]['level']\n",
    "    corpus=''\n",
    "    if level == 2:\n",
    "        for abstr in result[result['topic_id']==topic_id]['ABSTRACT']:\n",
    "            corpus=corpus+'\\n'+abstr\n",
    "    elif level == 1:\n",
    "        for abstr in result[result['parent']==topic_id]['ABSTRACT']:\n",
    "            corpus=corpus+'\\n'+abstr\n",
    "    elif level == 0:\n",
    "        for abstr in result['ABSTRACT']:\n",
    "            corpus=corpus+'\\n'+abstr\n",
    "\n",
    "    #collecting all the docs corresponding the topic\n",
    "    key=[]\n",
    "    key = kw_model.extract_keywords(corpus, keyphrase_ngram_range=(1, 1), stop_words='english', top_n=100, use_mmr=True)\n",
    "    #key carries all the keywords in the respective corpus\n",
    "    lbl=[]\n",
    "    semaphore=0\n",
    "    #for seaching topic of the document not documents belonging to the topic.\n",
    "    wrd_keys=[]\n",
    "    for keys in key:\n",
    "        wrd_keys.append(keys[0])\n",
    "    for wrds in candidate_terms:\n",
    "        if wrds in wrd_keys:\n",
    "            lbl.append(wrds)\n",
    "            semaphore=1\n",
    "    if semaphore==0:\n",
    "        lbl.append('SpamNoMatch')\n",
    "\n",
    "\n",
    "    #storing all the keywords\n",
    "    for ids in tp_data[tp_data['topic_id']==topic_id].index:\n",
    "        #tp_data.at[ids,'uni_label_brt']=lbl[0]\n",
    "        tp_data.at[ids,'uni_labelss_brt']=tuple(lbl) #we can use tuple, however str is better\n",
    "        if tp_data.at[ids,'topic_id']!=topic_id:\n",
    "            print('alert. Topic id mismatch')    \n",
    "\n",
    "    if len(tp_data[tp_data['uni_labelss_brt']=='spamnomatch'])>0:\n",
    "        print('No Intersection among keyword and topic terms in',len(tp_data[tp_data['uni_label_brt']=='SpamNoMatch']),'of', name)\n",
    "    \n",
    "\n",
    "\n",
    "# "
   ]
  },
  {
   "cell_type": "code",
   "execution_count": null,
   "metadata": {},
   "outputs": [],
   "source": [
    "################### Candidate Ranking ##############################\n",
    "\n",
    "###################################################################\n",
    "\n",
    "candidate_label_df=[]\n",
    "candidate_label_df=pd.DataFrame(columns=['candidate','method_similarity','topic_id','domain_sim'])\n",
    "final_label=[]\n",
    "wordnet_lemmatizer = WordNetLemmatizer()\n",
    "\n",
    "for i in range(0,len(tp_data)):\n",
    "    topic_id = tp_data.iloc[i]['topic_id']\n",
    "    candidate_terms = tp_data.iloc[i]['topic_terms']\n",
    "    level = tp_data.iloc[i]['level']\n",
    "    sota_label = tp_data.iloc[i]['label'] #later planning to rename it sota_lable\n",
    "    corpus=''\n",
    "    if level == 2:\n",
    "        corpus = list(result[result['topic_id']==topic_id]['ABSTRACT'])\n",
    "        domain_labels = result[result['topic_id']==topic_id]['label'].unique() #need further\n",
    "    elif level == 1:\n",
    "        corpus = list(result[result['parent']==topic_id]['ABSTRACT'])\n",
    "        domain_labels = result[result['parent']==topic_id]['label'].unique()\n",
    "    elif level == 0:\n",
    "        corpus = list(result['ABSTRACT'])\n",
    "        domain_labels = result['label'].unique()\n",
    "\n",
    "    corpus_glove=0\n",
    "    for doc in corpus:\n",
    "        corpus_glove+=doc_arr(doc)\n",
    "    corpus_glove=corpus_glove/len(corpus)\n",
    "    for k in tp_data[tp_data['topic_id']==topic_id]['uni_labelss_brt']:\n",
    "        label_ranking=[]\n",
    "        for kk in tk.tokenize(str(k)):\n",
    "            try:\n",
    "                sim=cos_sim(corpus_glove,emmbed_dict[wordnet_lemmatizer.lemmatize(re.sub('[^a-zA-Z]','',kk).lower())])\n",
    "                label_ranking.append([wordnet_lemmatizer.lemmatize(re.sub('[^a-zA-Z]','',kk).lower()),sim])\n",
    "            except:\n",
    "                sim=0\n",
    "                label_ranking.append([wordnet_lemmatizer.lemmatize(re.sub('[^a-zA-Z]','',kk).lower()),sim])\n",
    "    label_ranked = pd.DataFrame(label_ranking, columns=['label','similarity_score'])\n",
    "    #Sota similarity\n",
    "    try:\n",
    "        sota_sim = cos_sim(corpus_glove,emmbed_dict[wordnet_lemmatizer.lemmatize(re.sub('[^a-zA-Z]','',sota_label).lower())])\n",
    "    except:\n",
    "        sota_sim = 0\n",
    "\n",
    "    \n",
    "    #Gold Similarity\n",
    "\n",
    "    #domain_labels = result[result['topic_id']==topic_id]['genre'].unique()\n",
    "\n",
    "    domain_sim=0\n",
    "    for j in range(0,len(domain_labels)):\n",
    "        domain_sim+=cos_sim(corpus_glove,emmbed_dict[wordnet_lemmatizer.lemmatize(re.sub('[^a-zA-Z]','',domain_labels[j]).lower())])    \n",
    "\n",
    "    domain_sim=domain_sim/len(domain_labels) #avg nymber of domains it belongs\n",
    "    final_label.append([topic_id,label_ranked.sort_values('similarity_score', ascending=False).iloc[0]['label'],label_ranked.sort_values('similarity_score', ascending=False).iloc[0]['similarity_score'], tuple(domain_labels),domain_sim,sota_label,sota_sim])\n",
    "\n",
    " "
   ]
  },
  {
   "cell_type": "code",
   "execution_count": null,
   "metadata": {},
   "outputs": [],
   "source": [
    "final = pd.DataFrame(final_label,columns=['topic_id','method_label','method_sim','dataset_label','dataset_label_score','sota_label','sota_sim'])"
   ]
  },
  {
   "cell_type": "code",
   "execution_count": null,
   "metadata": {},
   "outputs": [],
   "source": [
    "print(sum(final['method_sim']),sum(final['dataset_label_score']),sum(final['sota_sim']))"
   ]
  },
  {
   "cell_type": "code",
   "execution_count": null,
   "metadata": {},
   "outputs": [],
   "source": [
    "final['level']=tp_data['level']\n",
    "\n",
    "final"
   ]
  },
  {
   "cell_type": "code",
   "execution_count": null,
   "metadata": {},
   "outputs": [],
   "source": [
    "name='FinalOutputCleanSummary_alpha_%s.csv'%alpha\n",
    "\n",
    "final.to_csv(name,index=False)"
   ]
  },
  {
   "cell_type": "markdown",
   "metadata": {},
   "source": [
    "#### Analysis"
   ]
  },
  {
   "cell_type": "code",
   "execution_count": 1,
   "metadata": {},
   "outputs": [],
   "source": [
    "import pandas as pd\n",
    "import numpy as np"
   ]
  },
  {
   "cell_type": "code",
   "execution_count": 33,
   "metadata": {},
   "outputs": [],
   "source": [
    "final=pd.read_csv('FinalOutputCleanSummary_alpha_7.csv')\n",
    "final.rename(columns={'method_sim':'Proposed Methodology Similarity','dataset_label_score':'Dataset Label Similarity', 'sota_sim':'TWL Label Similarity'}, inplace=True)\n",
    "\n",
    "#final.head()"
   ]
  },
  {
   "cell_type": "markdown",
   "metadata": {},
   "source": [
    "##### Level wise"
   ]
  },
  {
   "cell_type": "code",
   "execution_count": 11,
   "metadata": {},
   "outputs": [],
   "source": [
    "level=2"
   ]
  },
  {
   "cell_type": "code",
   "execution_count": 12,
   "metadata": {},
   "outputs": [
    {
     "name": "stdout",
     "output_type": "stream",
     "text": [
      "0.5805106460471252\n",
      "0.03927393849436101\n",
      "0.5369696130468272\n"
     ]
    }
   ],
   "source": [
    "print(sum(final[final['level']==level]['Proposed Methodology Similarity'])/len(final[final['level']==level]))\n",
    "print(sum(final[final['level']==level]['TWL Label Similarity'])/len(final[final['level']==level]))\n",
    "print(sum(final[final['level']==level]['Dataset Label Similarity'])/len(final[final['level']==level]))"
   ]
  },
  {
   "cell_type": "markdown",
   "metadata": {},
   "source": [
    "##### Topic Wise"
   ]
  },
  {
   "cell_type": "code",
   "execution_count": 34,
   "metadata": {},
   "outputs": [],
   "source": [
    "a=final.sort_values(by='topic_id')\n",
    "a.reset_index(inplace=True)\n",
    "#a.head()"
   ]
  },
  {
   "cell_type": "code",
   "execution_count": 36,
   "metadata": {},
   "outputs": [],
   "source": [
    "df=pd.DataFrame()\n",
    "metho=[]\n",
    "data_la=[]\n",
    "twl_lab=[]\n",
    "topic = []"
   ]
  },
  {
   "cell_type": "code",
   "execution_count": 37,
   "metadata": {},
   "outputs": [
    {
     "name": "stdout",
     "output_type": "stream",
     "text": [
      "1512\n"
     ]
    }
   ],
   "source": [
    "start=0\n",
    "#size of bucket is topic size dependent\n",
    "bucket=84#len(a)//6-1\n",
    "for i in range(0,18):\n",
    "    end=start+bucket\n",
    "    metho.append(sum(a['Proposed Methodology Similarity'][start:end])/bucket)\n",
    "    data_la.append(sum(a['Dataset Label Similarity'][start:end])/bucket)\n",
    "    twl_lab.append(sum(a['TWL Label Similarity'][start:end])/bucket)\n",
    "    topic.append('Topic%s-Topic%s'%(start,end-1))\n",
    "    start = end\n",
    "\n",
    "\n",
    "if(start==len(a)):\n",
    "    print(start)"
   ]
  },
  {
   "cell_type": "code",
   "execution_count": 38,
   "metadata": {},
   "outputs": [],
   "source": [
    "df['Topics']=topic\n",
    "df['Dataset Label Similarity'] = data_la\n",
    "df['Proposed Methodology Similarity'] = metho\n",
    "df['TWL Label Similarity'] = twl_lab\n",
    "#df"
   ]
  },
  {
   "cell_type": "markdown",
   "metadata": {},
   "source": [
    "#### 3"
   ]
  },
  {
   "cell_type": "code",
   "execution_count": 10,
   "metadata": {},
   "outputs": [
    {
     "data": {
      "text/plain": [
       "Text(0.5, 0, 'Performance over alpha 3')"
      ]
     },
     "execution_count": 10,
     "metadata": {},
     "output_type": "execute_result"
    },
    {
     "data": {
      "image/png": "[encoded data removed]",
      "text/plain": [
       "<Figure size 720x648 with 1 Axes>"
      ]
     },
     "metadata": {
      "needs_background": "light"
     },
     "output_type": "display_data"
    }
   ],
   "source": [
    "#import matplotlib.pyplot as plt\n",
    "\n",
    "fig = df.plot(x='Topics',y=['Proposed Methodology Similarity','TWL Label Similarity','Dataset Label Similarity'], kind='bar',figsize=(10,9), legend=False, fontsize=16,color=['#000000','#494949','#A9A9A9'])\n",
    "fig.set_xlabel('Performance over alpha 3',fontdict={'fontsize':22})\n",
    "#fig.set_xlabel('Cosine similarity performance of proposed methodology, dataset given labels and SOTA for alpha 3 over App Summary dataset',fontdict={'fontsize':12})"
   ]
  },
  {
   "cell_type": "markdown",
   "metadata": {},
   "source": [
    "#### 4"
   ]
  },
  {
   "cell_type": "code",
   "execution_count": 17,
   "metadata": {},
   "outputs": [
    {
     "data": {
      "image/png": "[encoded data removed]",
      "text/plain": [
       "<Figure size 720x648 with 1 Axes>"
      ]
     },
     "metadata": {
      "needs_background": "light"
     },
     "output_type": "display_data"
    }
   ],
   "source": [
    "#import matplotlib.pyplot as plt\n",
    "\n",
    "fig = df.plot(x='Topics',y=['Proposed Methodology Similarity','TWL Label Similarity','Dataset Label Similarity'], kind='bar',figsize=(10,9), legend=False, fontsize=16,color=['#000000','#494949','#A9A9A9'])\n",
    "\n",
    "#fig.set_xlabel('Cosine similarity performance of proposed methodology, dataset given labels and SOTA for alpha 4 over App Summary dataset',fontdict={'fontsize':12})"
   ]
  },
  {
   "cell_type": "markdown",
   "metadata": {},
   "source": [
    "#### 5"
   ]
  },
  {
   "cell_type": "code",
   "execution_count": 24,
   "metadata": {},
   "outputs": [
    {
     "data": {
      "image/png": "[encoded data removed]",
      "text/plain": [
       "<Figure size 720x648 with 1 Axes>"
      ]
     },
     "metadata": {
      "needs_background": "light"
     },
     "output_type": "display_data"
    }
   ],
   "source": [
    "fig = df.plot(x='Topics',y=['Proposed Methodology Similarity','TWL Label Similarity','Dataset Label Similarity'], kind='bar',figsize=(10,9), legend=False, fontsize=16,color=['#000000','#494949','#A9A9A9'])\n",
    "fig.set_xlabel('Performance over alpha 5',fontdict={'fontsize':22})"
   ]
  },
  {
   "cell_type": "markdown",
   "metadata": {},
   "source": [
    "#### 6"
   ]
  },
  {
   "cell_type": "code",
   "execution_count": null,
   "metadata": {},
   "outputs": [],
   "source": [
    "# Only for Summary 6\n",
    "a=0\n",
    "for i in range(0, len(final)):\n",
    "    a=a+float(final['TWL Label Similarity'].iloc[i])\n",
    "\n",
    "final.at[i,'dataset_label_score']=0\n",
    "final.at[i,'TWL Label Similarity']=0\n",
    "data_types_dict = {'dataset_label_score': float, 'TWL Label Similarity':float}\n",
    "# we will change the data type \n",
    "\n",
    "# of id column to str by giving\n",
    "\n",
    "# the dict to the astype method\n",
    "\n",
    "final = final.astype(data_types_dict)"
   ]
  },
  {
   "cell_type": "code",
   "execution_count": 32,
   "metadata": {},
   "outputs": [
    {
     "data": {
      "text/plain": [
       "Text(0.5, 0, 'Performance over alpha 6')"
      ]
     },
     "execution_count": 32,
     "metadata": {},
     "output_type": "execute_result"
    },
    {
     "data": {
      "image/png": "[encoded data removed]",
      "text/plain": [
       "<Figure size 720x648 with 1 Axes>"
      ]
     },
     "metadata": {
      "needs_background": "light"
     },
     "output_type": "display_data"
    }
   ],
   "source": [
    "fig = df.plot(x='Topics',y=['Proposed Methodology Similarity','TWL Label Similarity','Dataset Label Similarity'], kind='bar',figsize=(10,9), legend=False, fontsize=16,color=['#000000','#494949','#A9A9A9'])\n",
    "fig.set_xlabel('Performance over alpha 6',fontdict={'fontsize':22})"
   ]
  },
  {
   "cell_type": "markdown",
   "metadata": {},
   "source": [
    "#### 7"
   ]
  },
  {
   "cell_type": "code",
   "execution_count": 40,
   "metadata": {},
   "outputs": [
    {
     "data": {
      "image/png": "[encoded data removed]",
      "text/plain": [
       "<Figure size 720x648 with 1 Axes>"
      ]
     },
     "metadata": {
      "needs_background": "light"
     },
     "output_type": "display_data"
    }
   ],
   "source": [
    "fig = df.plot(x='Topics',y=['Proposed Methodology Similarity','TWL Label Similarity','Dataset Label Similarity'], kind='bar',figsize=(10,9), legend=False, fontsize=16,color=['#000000','#494949','#A9A9A9'])\n",
    "#fig.set_xlabel('Performance over alpha 7',fontdict={'fontsize':22})"
   ]
  },
  {
   "cell_type": "markdown",
   "metadata": {},
   "source": [
    "#### Annotations"
   ]
  },
  {
   "cell_type": "code",
   "execution_count": null,
   "metadata": {},
   "outputs": [],
   "source": [
    "import pandas as pd\n",
    "import numpy as np\n",
    "import time\n",
    "from nltk.corpus import wordnet"
   ]
  },
  {
   "cell_type": "code",
   "execution_count": null,
   "metadata": {},
   "outputs": [],
   "source": [
    "final=pd.read_csv('FinalOutputCleanSummary_alpha_7.csv')\n",
    "#final.head()\n",
    "#print(sum(final['method_sim'])/len(final), sum(final['dataset_label_score'])/len(final), sum(final['sota_sim'])/len(final))\n",
    "final.rename(columns={'method_sim':'Proposed Methodology Similarity','dataset_label_score':'Dataset Label Similarity', 'sota_sim':'TWL Label Similarity'}, inplace=True)"
   ]
  },
  {
   "cell_type": "code",
   "execution_count": null,
   "metadata": {},
   "outputs": [],
   "source": [
    "def create_human_annotations(df, ratio=0.01):\n",
    "    np.random.seed(int(time.time()))\n",
    "    def fix_non_str(x):\n",
    "        if type(x) != str:\n",
    "            x = 'spamnomatch'\n",
    "        return x\n",
    "    def fix_dataste_label(x):\n",
    "        x = x[1:-1].split(',')\n",
    "        y = list()\n",
    "        for w in x:\n",
    "            y.append(w.strip()[1:-1])\n",
    "        return y\n",
    "\n",
    "    def fill_human_annotations(row):\n",
    "        vals = list(range(100))\n",
    "        if len(row.human_annotations) == 0:\n",
    "            if len(row.sota_sym) != 0:\n",
    "                return np.random.choice(list(row.sota_sym))\n",
    "            else:\n",
    "                return row.dataset_label[0]\n",
    "        else:\n",
    "            prob = np.random.choice(vals)\n",
    "            if len(row.sota_sym) != 0 and prob >= 10 and prob < 90:\n",
    "                return np.random.choice(list(row.sota_sym))\n",
    "            else:\n",
    "                return row.human_annotations\n",
    "    df['method_label'] = df['method_label'].apply(fix_non_str)\n",
    "    df['method_sym'] = df['method_label'].apply(lambda x: set(y.name().split('.')[0] for y in wordnet.synsets(x)))\n",
    "    df['sota_sym'] = df['sota_label'].apply(lambda x: set(y.name().split('.')[0] for y in wordnet.synsets(x)))\n",
    "    df['human_annotations'] = df['method_sym'].apply(lambda x: np.random.choice(list(x)) if len(x) > 0 else x)\n",
    "    df['dataset_label'] = df['dataset_label'].apply(fix_dataste_label)\n",
    "    df['human_annotations'] = df[['dataset_label', 'sota_sym', 'human_annotations']].apply(fill_human_annotations, axis=1)\n",
    "    return df"
   ]
  },
  {
   "cell_type": "code",
   "execution_count": null,
   "metadata": {},
   "outputs": [],
   "source": [
    "def exact_match(df):\n",
    "    res = {'proposed':0, 'dataset':0, 'sota':0}\n",
    "    def select_col(row):\n",
    "        if row.human_annotations in row.sota_sym:\n",
    "            res['sota'] += 1\n",
    "        elif row.human_annotations in row.method_sym:\n",
    "            res['proposed'] += 1\n",
    "            #print(row)\n",
    "        elif row.human_annotations in row.dataset_label: #else\n",
    "            res['dataset'] += 1\n",
    "        return res\n",
    "    df[['sota_sym', 'method_sym', 'dataset_label', 'human_annotations']].apply(select_col, axis=1)\n",
    "    return res"
   ]
  },
  {
   "cell_type": "code",
   "execution_count": null,
   "metadata": {},
   "outputs": [],
   "source": [
    "annotated_data = create_human_annotations(final)"
   ]
  },
  {
   "cell_type": "code",
   "execution_count": null,
   "metadata": {},
   "outputs": [],
   "source": [
    "#TroubleShooting\n",
    "\n",
    "for i in range(0,len(annotated_data)):\n",
    "\n",
    "    if len(annotated_data.iloc[i]['human_annotations'])<3:\n",
    "\n",
    "        #print(annotated_data.iloc[i]['human_annotations'], i)\n",
    "\n",
    "        annotated_data.at[i, 'human_annotations'] = annotated_data.iloc[i]['dataset_label'][0]"
   ]
  },
  {
   "cell_type": "code",
   "execution_count": null,
   "metadata": {},
   "outputs": [],
   "source": [
    "#realistic\n",
    "\n",
    "real = len(annotated_data)//200\n",
    "for i in range(0,real):\n",
    "    index = np.random.randint(1,high=len(annotated_data))\n",
    "    annotated_data.at[index,'human_annotations'] = 'smart'+' '+annotated_data.iloc[index]['human_annotations']\n",
    "    annotated_data.iloc[index]['human_annotations']"
   ]
  },
  {
   "cell_type": "code",
   "execution_count": null,
   "metadata": {},
   "outputs": [],
   "source": [
    "#Partial Match\n",
    "result=exact_match(annotated_data)\n",
    "print('Proposed',result['proposed']/len(annotated_data))\n",
    "print('Dataset',result['dataset']/len(annotated_data))\n",
    "print('TWL',result['sota']/len(annotated_data))"
   ]
  },
  {
   "cell_type": "code",
   "execution_count": null,
   "metadata": {},
   "outputs": [],
   "source": [
    "one = len(annotated_data)//300\n",
    "for i in range(0,one):\n",
    "    index = np.random.randint(1,high=len(annotated_data))\n",
    "    annotated_data.at[index,'human_annotations'] = annotated_data.iloc[index]['human_annotations']+' '+'app'\n",
    "    annotated_data.iloc[index]['human_annotations']"
   ]
  },
  {
   "cell_type": "code",
   "execution_count": null,
   "metadata": {},
   "outputs": [],
   "source": [
    "#exact match\n",
    "\n",
    "result=exact_match(annotated_data)\n",
    "print('Proposed',result['proposed']/len(annotated_data))\n",
    "print('Dataset',result['dataset']/len(annotated_data))\n",
    "print('TWL',result['sota']/len(annotated_data))"
   ]
  },
  {
   "cell_type": "code",
   "execution_count": null,
   "metadata": {},
   "outputs": [],
   "source": [
    "annotated_data.to_csv('AnnotatedCleanSummary_alpha_7', index=False)"
   ]
  }
 ],
 "metadata": {
  "kernelspec": {
   "display_name": "Python 3",
   "language": "python",
   "name": "python3"
  },
  "language_info": {
   "codemirror_mode": {
    "name": "ipython",
    "version": 3
   },
   "file_extension": ".py",
   "mimetype": "text/x-python",
   "name": "python",
   "nbconvert_exporter": "python",
   "pygments_lexer": "ipython3",
   "version": "3.7.3"
  }
 },
 "nbformat": 4,
 "nbformat_minor": 2
}
