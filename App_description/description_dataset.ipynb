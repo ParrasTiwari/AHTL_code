{
 "cells": [
  {
   "cell_type": "code",
   "execution_count": 1,
   "metadata": {
    "ExecuteTime": {
     "end_time": "2022-11-30T06:03:31.782199Z",
     "start_time": "2022-11-30T06:03:30.244260Z"
    }
   },
   "outputs": [],
   "source": [
    "from itertools import count\n",
    "import re\n",
    "import time\n",
    "from nltk.corpus import stopwords \n",
    "from hlda.sampler import HierarchicalLDA\n",
    "\n",
    "import pandas as pd\n",
    "import numpy as np\n",
    "\n",
    "from warnings import filterwarnings\n",
    "filterwarnings('ignore')\n",
    "\n",
    "from sklearn.feature_extraction.text import CountVectorizer\n",
    "import math"
   ]
  },
  {
   "cell_type": "markdown",
   "metadata": {},
   "source": [
    "### Dataset loading and prepration"
   ]
  },
  {
   "cell_type": "code",
   "execution_count": 2,
   "metadata": {
    "ExecuteTime": {
     "end_time": "2022-11-30T06:03:35.609336Z",
     "start_time": "2022-11-30T06:03:31.783470Z"
    }
   },
   "outputs": [],
   "source": [
    "#saved the file after cleaning to save multiple experimentation time\n",
    "abstract=pd.read_csv('Clean/description_clean_file.csv')"
   ]
  },
  {
   "cell_type": "code",
   "execution_count": 4,
   "metadata": {
    "ExecuteTime": {
     "end_time": "2022-11-30T06:03:35.704934Z",
     "start_time": "2022-11-30T06:03:35.614191Z"
    }
   },
   "outputs": [],
   "source": [
    "index_names = abstract[abstract['genre']==\"Entertainment\"].index\n",
    "abstract.drop(index_names, inplace=True)\n",
    "abstract = abstract.reset_index(drop=True)"
   ]
  },
  {
   "cell_type": "code",
   "execution_count": 5,
   "metadata": {
    "ExecuteTime": {
     "end_time": "2022-11-30T06:03:35.735759Z",
     "start_time": "2022-11-30T06:03:35.706098Z"
    }
   },
   "outputs": [],
   "source": [
    "index_names = abstract[abstract['genre']==\"Tools\"].index\n",
    "abstract.drop(index_names, inplace=True)\n",
    "abstract = abstract.reset_index(drop=True)"
   ]
  },
  {
   "cell_type": "code",
   "execution_count": 6,
   "metadata": {
    "ExecuteTime": {
     "end_time": "2022-11-30T06:03:35.762403Z",
     "start_time": "2022-11-30T06:03:35.736963Z"
    }
   },
   "outputs": [],
   "source": [
    "index_names = abstract[abstract['genre']==\"Music & Audio\"].index\n",
    "abstract.drop(index_names, inplace=True)\n",
    "abstract = abstract.reset_index(drop=True)"
   ]
  },
  {
   "cell_type": "code",
   "execution_count": 7,
   "metadata": {
    "ExecuteTime": {
     "end_time": "2022-11-30T06:03:35.784631Z",
     "start_time": "2022-11-30T06:03:35.763622Z"
    }
   },
   "outputs": [],
   "source": [
    "index_names = abstract[abstract['genre']==\"Education\"].index\n",
    "abstract.drop(index_names, inplace=True)\n",
    "abstract = abstract.reset_index(drop=True)"
   ]
  },
  {
   "cell_type": "code",
   "execution_count": 8,
   "metadata": {
    "ExecuteTime": {
     "end_time": "2022-11-30T06:03:35.805390Z",
     "start_time": "2022-11-30T06:03:35.786653Z"
    }
   },
   "outputs": [],
   "source": [
    "index_names = abstract[abstract['genre']==\"Books & Reference\"].index\n",
    "abstract.drop(index_names, inplace=True)\n",
    "abstract = abstract.reset_index(drop=True)"
   ]
  },
  {
   "cell_type": "code",
   "execution_count": 9,
   "metadata": {
    "ExecuteTime": {
     "end_time": "2022-11-30T06:03:35.826286Z",
     "start_time": "2022-11-30T06:03:35.806792Z"
    }
   },
   "outputs": [],
   "source": [
    "abstract = abstract.loc[abstract['clean_description'].str.split().str.len()>11]\n",
    "\n",
    "abstract.reset_index(drop=True, inplace=True)"
   ]
  },
  {
   "cell_type": "code",
   "execution_count": 10,
   "metadata": {},
   "outputs": [
    {
     "data": {
      "text/html": [
       "<div>\n",
       "<style scoped>\n",
       "    .dataframe tbody tr th:only-of-type {\n",
       "        vertical-align: middle;\n",
       "    }\n",
       "\n",
       "    .dataframe tbody tr th {\n",
       "        vertical-align: top;\n",
       "    }\n",
       "\n",
       "    .dataframe thead th {\n",
       "        text-align: right;\n",
       "    }\n",
       "</style>\n",
       "<table border=\"1\" class=\"dataframe\">\n",
       "  <thead>\n",
       "    <tr style=\"text-align: right;\">\n",
       "      <th></th>\n",
       "      <th>id</th>\n",
       "      <th>description</th>\n",
       "      <th>genre</th>\n",
       "      <th>genres</th>\n",
       "      <th>clean_description</th>\n",
       "    </tr>\n",
       "  </thead>\n",
       "  <tbody>\n",
       "    <tr>\n",
       "      <th>0</th>\n",
       "      <td>492765</td>\n",
       "      <td>Ù…Ù„Ùƒ Ø§Ù„ØªÙˆØµÙŠÙ„ - Ø¹ÙˆØ¶ Ø£Ø¨Ùˆ Ø´ÙØ©\\nÙ„Ø¹Ø¨Ø© Ø³Ø¨Ø§Ù‚ Ø³ÙŠØ§Ø±Ø§Øª Ù„Øª...</td>\n",
       "      <td>Games</td>\n",
       "      <td>['Games', 'Racing', 'Casual', 'Entertainment']</td>\n",
       "      <td>King of delivery   Awad abo shefeh  Awad abu s...</td>\n",
       "    </tr>\n",
       "    <tr>\n",
       "      <th>1</th>\n",
       "      <td>64074</td>\n",
       "      <td>This crime fighter rescue is all about a super...</td>\n",
       "      <td>Games</td>\n",
       "      <td>['Games', 'Role Playing', 'Action']</td>\n",
       "      <td>This crime fighter rescue is all about a super...</td>\n",
       "    </tr>\n",
       "    <tr>\n",
       "      <th>2</th>\n",
       "      <td>471151</td>\n",
       "      <td>Build, Customize, Race! Take on the world's be...</td>\n",
       "      <td>Games</td>\n",
       "      <td>['Games', 'Racing', 'Sports', 'Simulation']</td>\n",
       "      <td>Build, Customize, Race  Take on the world s be...</td>\n",
       "    </tr>\n",
       "    <tr>\n",
       "      <th>3</th>\n",
       "      <td>463581</td>\n",
       "      <td>Are you looking for your true digital love? We...</td>\n",
       "      <td>Games</td>\n",
       "      <td>['Games', 'Entertainment', 'Casual', 'Simulati...</td>\n",
       "      <td>Are you looking for your true digital love? We...</td>\n",
       "    </tr>\n",
       "    <tr>\n",
       "      <th>4</th>\n",
       "      <td>188973</td>\n",
       "      <td>Now you can get the chance to become the road ...</td>\n",
       "      <td>Games</td>\n",
       "      <td>['Games', 'Simulation', 'Entertainment', 'Role...</td>\n",
       "      <td>Now you can get the chance to become the road ...</td>\n",
       "    </tr>\n",
       "  </tbody>\n",
       "</table>\n",
       "</div>"
      ],
      "text/plain": [
       "       id                                        description  genre  \\\n",
       "0  492765  Ù…Ù„Ùƒ Ø§Ù„ØªÙˆØµÙŠÙ„ - Ø¹ÙˆØ¶ Ø£Ø¨Ùˆ Ø´ÙØ©\\nÙ„Ø¹Ø¨Ø© Ø³Ø¨Ø§Ù‚ Ø³ÙŠØ§Ø±Ø§Øª Ù„Øª...  Games   \n",
       "1   64074  This crime fighter rescue is all about a super...  Games   \n",
       "2  471151  Build, Customize, Race! Take on the world's be...  Games   \n",
       "3  463581  Are you looking for your true digital love? We...  Games   \n",
       "4  188973  Now you can get the chance to become the road ...  Games   \n",
       "\n",
       "                                              genres  \\\n",
       "0     ['Games', 'Racing', 'Casual', 'Entertainment']   \n",
       "1                ['Games', 'Role Playing', 'Action']   \n",
       "2        ['Games', 'Racing', 'Sports', 'Simulation']   \n",
       "3  ['Games', 'Entertainment', 'Casual', 'Simulati...   \n",
       "4  ['Games', 'Simulation', 'Entertainment', 'Role...   \n",
       "\n",
       "                                   clean_description  \n",
       "0  King of delivery   Awad abo shefeh  Awad abu s...  \n",
       "1  This crime fighter rescue is all about a super...  \n",
       "2  Build, Customize, Race  Take on the world s be...  \n",
       "3  Are you looking for your true digital love? We...  \n",
       "4  Now you can get the chance to become the road ...  "
      ]
     },
     "execution_count": 10,
     "metadata": {},
     "output_type": "execute_result"
    }
   ],
   "source": [
    "abstract.head()"
   ]
  },
  {
   "cell_type": "code",
   "execution_count": 11,
   "metadata": {
    "ExecuteTime": {
     "end_time": "2022-11-30T06:03:35.829394Z",
     "start_time": "2022-11-30T06:03:35.827456Z"
    }
   },
   "outputs": [],
   "source": [
    "from sklearn.feature_extraction.text import CountVectorizer"
   ]
  },
  {
   "cell_type": "code",
   "execution_count": 12,
   "metadata": {
    "ExecuteTime": {
     "end_time": "2022-11-30T06:03:39.277234Z",
     "start_time": "2022-11-30T06:03:35.830360Z"
    }
   },
   "outputs": [
    {
     "data": {
      "text/plain": [
       "CountVectorizer()"
      ]
     },
     "execution_count": 12,
     "metadata": {},
     "output_type": "execute_result"
    }
   ],
   "source": [
    "abstract['ABSTRACT']=abstract['clean_description']\n",
    "vectorizer = CountVectorizer()\n",
    "document=[]\n",
    "\n",
    "for i in range(0, len(abstract)):\n",
    "    document.append(abstract['ABSTRACT'].iloc[i])\n",
    "vectorizer.fit(document)"
   ]
  },
  {
   "cell_type": "code",
   "execution_count": 13,
   "metadata": {
    "ExecuteTime": {
     "end_time": "2022-11-30T06:03:39.281102Z",
     "start_time": "2022-11-30T06:03:39.278395Z"
    }
   },
   "outputs": [
    {
     "data": {
      "text/plain": [
       "62960"
      ]
     },
     "execution_count": 13,
     "metadata": {},
     "output_type": "execute_result"
    }
   ],
   "source": [
    "len(vectorizer.vocabulary_)"
   ]
  },
  {
   "cell_type": "code",
   "execution_count": 14,
   "metadata": {
    "ExecuteTime": {
     "end_time": "2022-11-30T06:03:42.389904Z",
     "start_time": "2022-11-30T06:03:39.282033Z"
    }
   },
   "outputs": [],
   "source": [
    "abstract['ABSTRACT']=abstract['clean_description']\n",
    "#name='hlda_summary_output.txt'\n",
    "\n",
    "# In[3]:\n",
    "# stop loss words \n",
    "stop = set(stopwords.words('english'))\n",
    "def clean(doc):\n",
    "    normalized=''\n",
    "    # normalize and lemmatize the text\n",
    "    for word in doc.split():\n",
    "        if word not in stop:\n",
    "            normalized = normalized + ' '+ word.lower()\n",
    "    \n",
    "    return normalized.strip()\n",
    "\n",
    "\n",
    "# In[4]:\n",
    "# clean data stored in a new list\n",
    "clean_corpus = []\n",
    "clean_corpus = [clean(doc) for doc in abstract['ABSTRACT']] \n",
    "\n",
    "\n",
    "# In[5]:\n",
    "\n",
    "\n",
    "#Create vocab\n",
    "vocab = set()\n",
    "for doc in clean_corpus:\n",
    "    for w in doc.split():\n",
    "        if w not in vocab:\n",
    "            vocab.add(w)\n",
    "\n",
    "\n",
    "# In[6]:\n",
    "\n",
    "\n",
    "# For further analysis. term-index\n",
    "vocab = sorted(list(vocab))\n",
    "vocab_index = {}\n",
    "vocab_word_index={}\n",
    "for i, w in enumerate(vocab):\n",
    "    vocab_index[w] = i\n",
    "    vocab_word_index[i] = w\n",
    "\n",
    "\n",
    "# In[7]:\n",
    "\n",
    "\n",
    "# Doc-Term matrix\n",
    "new_corpus = []\n",
    "for doc in clean_corpus:\n",
    "    new_doc = []\n",
    "    for word in doc.split():\n",
    "        word_idx = vocab_index[word]\n",
    "        new_doc.append(word_idx)\n",
    "    new_corpus.append(new_doc)\n",
    "\n",
    "\n",
    "# #### HyperParameters\n",
    "vocab = np.array(vocab)"
   ]
  },
  {
   "cell_type": "markdown",
   "metadata": {},
   "source": [
    "### Training"
   ]
  },
  {
   "cell_type": "markdown",
   "metadata": {},
   "source": [
    "#### Hyperparameter"
   ]
  },
  {
   "cell_type": "code",
   "execution_count": 15,
   "metadata": {
    "ExecuteTime": {
     "end_time": "2022-11-30T06:03:42.394626Z",
     "start_time": "2022-11-30T06:03:42.391110Z"
    }
   },
   "outputs": [
    {
     "name": "stdout",
     "output_type": "stream",
     "text": [
      "training cell with  7\n"
     ]
    }
   ],
   "source": [
    "n_samples = 10        # no of iterations for the sampler\n",
    "alpha = 7          # smoothing over level distributions\n",
    "gamma = .5           # CRP smoothing parameter; number of imaginary customers at next, as yet unused table\n",
    "eta = 0.9             # smoothing over topic-word distributions\n",
    "num_levels = 3        # the number of levels in the tree\n",
    "display_topics = 10    # the number of iterations between printing a brief summary of the topics so far\n",
    "n_words = 100           # the number of most probable words to print for each topic after model estimation\n",
    "with_weights = True  # whether to print the words with the weights\n",
    "\n",
    "# #### Train\n",
    "\n",
    "# In[ ]:\n",
    "print('training cell with ', alpha)\n",
    "start = time.time()"
   ]
  },
  {
   "cell_type": "code",
   "execution_count": 16,
   "metadata": {
    "ExecuteTime": {
     "start_time": "2022-11-30T06:03:30.271Z"
    }
   },
   "outputs": [],
   "source": [
    "%%capture captured\n",
    "hlda = HierarchicalLDA(new_corpus, vocab, num_levels=num_levels,eta=eta,alpha=alpha, gamma=gamma)\n",
    "hlda.estimate(n_samples, display_topics=display_topics, n_words=n_words, with_weights=with_weights)"
   ]
  },
  {
   "cell_type": "code",
   "execution_count": 19,
   "metadata": {
    "ExecuteTime": {
     "start_time": "2022-11-30T06:03:30.275Z"
    }
   },
   "outputs": [
    {
     "name": "stdout",
     "output_type": "stream",
     "text": [
      "time taken for one  46.370981911818184\n",
      "154  number of topics for alpha  7\n"
     ]
    }
   ],
   "source": [
    "res=[]\n",
    "for i in range(0,len(new_corpus)):\n",
    "    #print(i, \" : \", hlda.document_leaves[i])\n",
    "    leaf = str(hlda.document_leaves[i])\n",
    "    topic_id = leaf.split()[0].split(\"=\")[1]\n",
    "    level = leaf.split()[1].split(\"=\")[1]\n",
    "    parent = leaf.split()[-1].split(\"=\")[1]\n",
    "    res.append([int(i),int(topic_id),int(level),int(parent)])\n",
    "\n",
    "\n",
    "result=pd.DataFrame(res, columns=['doc_id', 'topic_id', 'level','parent'])\n",
    "\n",
    "\n",
    "num_topic = result['topic_id'].nunique()\n",
    "end = time.time()\n",
    "print('time taken for one ', (end-start)/60)\n",
    "print(num_topic,' number of topics for alpha ', alpha)"
   ]
  },
  {
   "cell_type": "code",
   "execution_count": 20,
   "metadata": {
    "ExecuteTime": {
     "start_time": "2022-11-30T06:03:30.276Z"
    }
   },
   "outputs": [],
   "source": [
    "#Save\n",
    "name='CleanDescription_alpha_%s_topic_%s'%(alpha,result['topic_id'].nunique())\n",
    "with open(name, 'w') as f:\n",
    "    f.write(captured.stdout)"
   ]
  },
  {
   "cell_type": "markdown",
   "metadata": {},
   "source": [
    "#### topic_id| candidate_term | level | parent"
   ]
  },
  {
   "cell_type": "code",
   "execution_count": 21,
   "metadata": {
    "ExecuteTime": {
     "start_time": "2022-11-30T06:03:30.277Z"
    }
   },
   "outputs": [],
   "source": [
    "#open text file in read mode\n",
    "text_file = open(name, \"r\")\n",
    "\n",
    "#read whole file to a string\n",
    "data = text_file.read()\n",
    "\n",
    "#close file\n",
    "text_file.close()\n",
    "length = len(data.split('\\n'))\n",
    "#length\n",
    "data_lines = data.split('\\n')"
   ]
  },
  {
   "cell_type": "code",
   "execution_count": 22,
   "metadata": {
    "ExecuteTime": {
     "start_time": "2022-11-30T06:03:30.278Z"
    }
   },
   "outputs": [],
   "source": [
    "topic_data = []\n",
    "dt_line = data_lines[length-1]\n",
    "cnt = length-1\n",
    "\n",
    "while(len(dt_line)==0 or dt_line[0]!='.'): #we need only last iteration\n",
    "    if(len(dt_line)==0):\n",
    "        cnt = cnt-1\n",
    "        dt_line = data_lines[cnt]\n",
    "        continue    \n",
    "    topic_id = dt_line.split()[0].split('=')[1]\n",
    "    level = dt_line.split()[1].split('=')[1]\n",
    "    terms=[]\n",
    "    for n in range(3,n_words*2+3,2):\n",
    "        terms.append(data_lines[cnt].split()[n])\n",
    "    topic_data.append([int(topic_id),int(level), terms])\n",
    "    cnt = cnt-1\n",
    "    dt_line = data_lines[cnt]\n"
   ]
  },
  {
   "cell_type": "code",
   "execution_count": 23,
   "metadata": {
    "ExecuteTime": {
     "start_time": "2022-11-30T06:03:30.279Z"
    }
   },
   "outputs": [
    {
     "data": {
      "text/html": [
       "<div>\n",
       "<style scoped>\n",
       "    .dataframe tbody tr th:only-of-type {\n",
       "        vertical-align: middle;\n",
       "    }\n",
       "\n",
       "    .dataframe tbody tr th {\n",
       "        vertical-align: top;\n",
       "    }\n",
       "\n",
       "    .dataframe thead th {\n",
       "        text-align: right;\n",
       "    }\n",
       "</style>\n",
       "<table border=\"1\" class=\"dataframe\">\n",
       "  <thead>\n",
       "    <tr style=\"text-align: right;\">\n",
       "      <th></th>\n",
       "      <th>topic_id</th>\n",
       "      <th>level</th>\n",
       "      <th>topic_terms</th>\n",
       "    </tr>\n",
       "  </thead>\n",
       "  <tbody>\n",
       "    <tr>\n",
       "      <th>137</th>\n",
       "      <td>123</td>\n",
       "      <td>2</td>\n",
       "      <td>[fowl, dalglish, symmetry., maestro, ios, lega...</td>\n",
       "    </tr>\n",
       "    <tr>\n",
       "      <th>152</th>\n",
       "      <td>15</td>\n",
       "      <td>2</td>\n",
       "      <td>[yang, dan, untuk, dengan, bisa, kamu, anda, d...</td>\n",
       "    </tr>\n",
       "    <tr>\n",
       "      <th>155</th>\n",
       "      <td>4</td>\n",
       "      <td>2</td>\n",
       "      <td>[snake,is, snake.this, rotating,, moving,and, ...</td>\n",
       "    </tr>\n",
       "    <tr>\n",
       "      <th>103</th>\n",
       "      <td>137</td>\n",
       "      <td>2</td>\n",
       "      <td>[grits, consonant, hawk., synthesized, 86, mat...</td>\n",
       "    </tr>\n",
       "    <tr>\n",
       "      <th>58</th>\n",
       "      <td>153</td>\n",
       "      <td>2</td>\n",
       "      <td>[sights, 3,, slim., mp5,, eyelashes,, beretta,...</td>\n",
       "    </tr>\n",
       "  </tbody>\n",
       "</table>\n",
       "</div>"
      ],
      "text/plain": [
       "     topic_id  level                                        topic_terms\n",
       "137       123      2  [fowl, dalglish, symmetry., maestro, ios, lega...\n",
       "152        15      2  [yang, dan, untuk, dengan, bisa, kamu, anda, d...\n",
       "155         4      2  [snake,is, snake.this, rotating,, moving,and, ...\n",
       "103       137      2  [grits, consonant, hawk., synthesized, 86, mat...\n",
       "58        153      2  [sights, 3,, slim., mp5,, eyelashes,, beretta,..."
      ]
     },
     "execution_count": 23,
     "metadata": {},
     "output_type": "execute_result"
    }
   ],
   "source": [
    "tp_data=pd.DataFrame(topic_data, columns=['topic_id','level','topic_terms'])\n",
    "tp_data.sample(5)"
   ]
  },
  {
   "cell_type": "markdown",
   "metadata": {},
   "source": [
    "### SOTA"
   ]
  },
  {
   "cell_type": "code",
   "execution_count": 24,
   "metadata": {
    "ExecuteTime": {
     "start_time": "2022-11-30T06:03:30.281Z"
    }
   },
   "outputs": [],
   "source": [
    "import math\n",
    "from warnings import filterwarnings\n",
    "filterwarnings('ignore')\n",
    "from sklearn.feature_extraction.text import CountVectorizer"
   ]
  },
  {
   "cell_type": "markdown",
   "metadata": {},
   "source": [
    "#### number of words in topic"
   ]
  },
  {
   "cell_type": "code",
   "execution_count": 25,
   "metadata": {
    "ExecuteTime": {
     "start_time": "2022-11-30T06:03:30.282Z"
    }
   },
   "outputs": [],
   "source": [
    "def vector(topic_id,node):\n",
    "    vectorizer = CountVectorizer()\n",
    "    document=[]\n",
    "    if node=='leaf':\n",
    "        for doc_id in result[result['topic_id']==topic_id]['doc_id']:\n",
    "               document.append(abstract['ABSTRACT'].iloc[doc_id])\n",
    "        vectorizer.fit(document)\n",
    "    elif node=='parent':\n",
    "        for doc_id in result[result['parent']==topic_id]['doc_id']: #only to change\n",
    "               document.append(abstract['ABSTRACT'].iloc[doc_id])\n",
    "        vectorizer.fit(document)\n",
    "    elif node=='grandparent':\n",
    "        for doc_id in result['doc_id']:\n",
    "            document.append(abstract['ABSTRACT'].iloc[doc_id])\n",
    "        vectorizer.fit(document)\n",
    "    return vectorizer"
   ]
  },
  {
   "cell_type": "code",
   "execution_count": 26,
   "metadata": {
    "ExecuteTime": {
     "start_time": "2022-11-30T06:03:30.283Z"
    }
   },
   "outputs": [],
   "source": [
    "leaf_vec = dict()\n",
    "for t_id in result['topic_id'].unique():    \n",
    "    try:\n",
    "        leaf_vec[t_id]=vector(t_id,'leaf')\n",
    "    except:\n",
    "        #drop from result\n",
    "        loc = result[result['topic_id']==t_id].index\n",
    "        result.drop(loc, inplace=True)\n",
    "        print(result[result['topic_id']==t_id])\n",
    "\n",
    "        d_loc = result[result['topic_id']==t_id]['doc_id']\n",
    "        abstract.drop(d_loc, inplace=True) #not resetting the index"
   ]
  },
  {
   "cell_type": "code",
   "execution_count": 28,
   "metadata": {
    "ExecuteTime": {
     "start_time": "2022-11-30T06:03:30.284Z"
    }
   },
   "outputs": [],
   "source": [
    "level_one = dict()\n",
    "for t_id in result['parent'].unique():\n",
    "    level_one[t_id]=vector(t_id,'parent')"
   ]
  },
  {
   "cell_type": "code",
   "execution_count": 29,
   "metadata": {
    "ExecuteTime": {
     "start_time": "2022-11-30T06:03:30.286Z"
    }
   },
   "outputs": [],
   "source": [
    "level_zero = dict()\n",
    "t_id = 0\n",
    "level_zero[t_id]=vector(t_id,'grandparent')"
   ]
  },
  {
   "cell_type": "markdown",
   "metadata": {},
   "source": [
    "#### number of doc has term"
   ]
  },
  {
   "cell_type": "code",
   "execution_count": 30,
   "metadata": {
    "ExecuteTime": {
     "start_time": "2022-11-30T06:03:30.287Z"
    }
   },
   "outputs": [],
   "source": [
    "from collections import defaultdict"
   ]
  },
  {
   "cell_type": "code",
   "execution_count": 31,
   "metadata": {
    "ExecuteTime": {
     "start_time": "2022-11-30T06:03:30.288Z"
    }
   },
   "outputs": [],
   "source": [
    "def doc_number(topic_id,node):\n",
    "    documents=[]\n",
    "    number_word_dict=defaultdict(list)\n",
    "    \n",
    "    if node=='leaf':\n",
    "        for doc_id in result[result['topic_id']==t_id]['doc_id']:\n",
    "            words=set(abstract['ABSTRACT'].iloc[doc_id].split())\n",
    "            for wrd in words:\n",
    "                number_word_dict[wrd].append(doc_id)\n",
    "    \n",
    "    elif node=='parent':\n",
    "        for doc_id in result[result['parent']==t_id]['doc_id']:\n",
    "            words=set(abstract['ABSTRACT'].iloc[doc_id].split())\n",
    "            for wrd in words:\n",
    "                number_word_dict[wrd].append(doc_id)\n",
    "    \n",
    "    elif node=='grandparent':\n",
    "        for doc_id in result['doc_id']:\n",
    "            words=set(abstract['ABSTRACT'].iloc[doc_id].split())\n",
    "            for wrd in words:\n",
    "                number_word_dict[wrd].append(doc_id)\n",
    "    \n",
    "    return number_word_dict"
   ]
  },
  {
   "cell_type": "code",
   "execution_count": 32,
   "metadata": {
    "ExecuteTime": {
     "start_time": "2022-11-30T06:03:30.290Z"
    }
   },
   "outputs": [],
   "source": [
    "leaf_number_doc = dict()\n",
    "for t_id in result['topic_id'].unique():    \n",
    "    leaf_number_doc[t_id]=doc_number(t_id,'leaf')"
   ]
  },
  {
   "cell_type": "code",
   "execution_count": 33,
   "metadata": {
    "ExecuteTime": {
     "start_time": "2022-11-30T06:03:30.291Z"
    }
   },
   "outputs": [],
   "source": [
    "levelONE_number_doc = dict()\n",
    "for t_id in result['parent'].unique():    \n",
    "    levelONE_number_doc[t_id]=doc_number(t_id,'parent')"
   ]
  },
  {
   "cell_type": "code",
   "execution_count": 34,
   "metadata": {
    "ExecuteTime": {
     "start_time": "2022-11-30T06:03:30.293Z"
    }
   },
   "outputs": [],
   "source": [
    "levelZERO_number_doc = dict()\n",
    "t_id=0\n",
    "levelZERO_number_doc[t_id]=doc_number(t_id,'grandparent')"
   ]
  },
  {
   "cell_type": "markdown",
   "metadata": {},
   "source": [
    "### Level 2|| Leaf"
   ]
  },
  {
   "cell_type": "code",
   "execution_count": 35,
   "metadata": {
    "ExecuteTime": {
     "start_time": "2022-11-30T06:03:30.294Z"
    }
   },
   "outputs": [],
   "source": [
    "def stat_2(topic_j, topic_k, candidate_term): #j should be original and k is child\n",
    "    a1 = s1_2(topic_k, candidate_term)\n",
    "    a2 = s2_2(topic_j, candidate_term)\n",
    "    a3 = a2 #s3_2(topic_j, candidate_term) #Since s3_2 is same as s2_2\n",
    "    #print(a1,a2,a3)\n",
    "    return a1*a2*a3"
   ]
  },
  {
   "cell_type": "code",
   "execution_count": 36,
   "metadata": {
    "ExecuteTime": {
     "start_time": "2022-11-30T06:03:30.296Z"
    }
   },
   "outputs": [],
   "source": [
    "#S1= Idf of term * term frequency in corpus\n",
    "def s1_2(topic_id, term):\n",
    "    #number of doc in topic=topic_id; VERIFIED\n",
    "    doc_in_tid=len(result[result['topic_id']==topic_id])    \n",
    "    \n",
    "    #number of doc has term\n",
    "    if term in leaf_number_doc[topic_id]:\n",
    "        doc_n = len(leaf_number_doc[topic_id][term])\n",
    "    else:\n",
    "        doc_n=1\n",
    "    \n",
    "    #number of times term in topic_id\n",
    "    if term in leaf_vec[topic_id].vocabulary_:\n",
    "        tf=leaf_vec[topic_id].vocabulary_[term]\n",
    "    else:\n",
    "        tf=0\n",
    "    \n",
    "    score= math.log(doc_in_tid/doc_n + 1)*tf\n",
    "    return score"
   ]
  },
  {
   "cell_type": "code",
   "execution_count": 37,
   "metadata": {
    "ExecuteTime": {
     "start_time": "2022-11-30T06:03:30.297Z"
    }
   },
   "outputs": [],
   "source": [
    "#S2= Parent tf-idf\n",
    "#Not used TfIdf vectors, as in this, if term in the doc, it is counted only once.\n",
    "def s2_2(topic_id, term):\n",
    "    #parent-id\n",
    "    p_topic_id=result[result['topic_id']==topic_id]['parent'].unique()\n",
    "    #number of doc in parent_id\n",
    "    doc_n = len(result[result['parent']==p_topic_id[0]]['doc_id']) #p_topic_id[0]; since only 1 parent possible\n",
    "    if doc_n == 0:\n",
    "        doc_n=1\n",
    "    #number of doc p_topic_id has term\n",
    "    if term in levelONE_number_doc[p_topic_id[0]]:\n",
    "        tf=len(levelONE_number_doc[p_topic_id[0]][term])\n",
    "    else:\n",
    "        tf=1        \n",
    "    \n",
    "    #Log idf in corpus\n",
    "    score = math.log(doc_n/tf+1)\n",
    "    return score"
   ]
  },
  {
   "cell_type": "markdown",
   "metadata": {},
   "source": [
    "### Level 1 || Parent"
   ]
  },
  {
   "cell_type": "code",
   "execution_count": 38,
   "metadata": {
    "ExecuteTime": {
     "start_time": "2022-11-30T06:03:30.298Z"
    }
   },
   "outputs": [],
   "source": [
    "def stat_1(topic_j, topic_k, candidate_term): #j shuld be original and k is child\n",
    "    a1 = s1_1(topic_k, candidate_term)\n",
    "    a2 = s2_1(topic_j, candidate_term)\n",
    "    a3 = s3_1(topic_j, candidate_term) \n",
    "    return a1*a2*a3"
   ]
  },
  {
   "cell_type": "code",
   "execution_count": 39,
   "metadata": {
    "ExecuteTime": {
     "start_time": "2022-11-30T06:03:30.299Z"
    }
   },
   "outputs": [],
   "source": [
    "def s1_1(topic_id, term):\n",
    "    #number of doc in topic=topic_id; VERIFIED\n",
    "    doc_in_tid=len(result[result['topic_id']==topic_id])    \n",
    "    \n",
    "    #number of doc has term\n",
    "    if term in leaf_number_doc[topic_id]:\n",
    "        doc_n = len(leaf_number_doc[topic_id][term])\n",
    "    else:\n",
    "        doc_n = 1\n",
    "    \n",
    "    #number of times term in topic_id\n",
    "    if term in leaf_vec[topic_id].vocabulary_:\n",
    "        tf=leaf_vec[topic_id].vocabulary_[term]\n",
    "    else:\n",
    "        tf=1\n",
    "    \n",
    "    score= math.log(doc_in_tid/doc_n + 1)*tf\n",
    "    return score"
   ]
  },
  {
   "cell_type": "code",
   "execution_count": 40,
   "metadata": {
    "ExecuteTime": {
     "start_time": "2022-11-30T06:03:30.300Z"
    }
   },
   "outputs": [],
   "source": [
    "def s2_1(topic_id, term):\n",
    "    #parent-id\n",
    "    p_topic_id = 0\n",
    "    #number of doc in parent_id (aka Grandparent)\n",
    "    doc_n = len(result)\n",
    "    \n",
    "    #number of doc p_topic_id has term\n",
    "    if term in levelZERO_number_doc[p_topic_id]:\n",
    "        tf=len(levelZERO_number_doc[p_topic_id][term])\n",
    "    else:\n",
    "        tf=1        \n",
    "    \n",
    "    #Log idf in corpus\n",
    "    score = math.log(doc_n/tf+1)\n",
    "    return score    "
   ]
  },
  {
   "cell_type": "code",
   "execution_count": 41,
   "metadata": {
    "ExecuteTime": {
     "start_time": "2022-11-30T06:03:30.301Z"
    }
   },
   "outputs": [],
   "source": [
    "def s3_1(topic_id, term):\n",
    "    #direct child\n",
    "    child = result[result['parent']==topic_id]['topic_id'].unique()\n",
    "    \n",
    "    #number of direct child\n",
    "    number_of_child = len(child)\n",
    "    \n",
    "    #number of direct child has term\n",
    "    child_term_count = 0\n",
    "    for direct_child in child:\n",
    "        if term in leaf_number_doc[direct_child]:\n",
    "            child_term_count+=1    \n",
    "    if child_term_count == 0:\n",
    "        child_term_count = 1\n",
    "    #number of doc in topic_id/parent has term\n",
    "    if term in levelONE_number_doc[topic_id]:\n",
    "        term_doc = len(levelONE_number_doc[topic_id][term])\n",
    "    else:\n",
    "        term_doc = 1\n",
    "    \n",
    "    #number of doc in parent/topic_id\n",
    "    doc_n = len(result[result['parent']==topic_id]['doc_id'])\n",
    "    if doc_n == 0:\n",
    "        doc_n = 1\n",
    "    \n",
    "    score = math.log(number_of_child/child_term_count + 1)*math.exp(term_doc/doc_n)\n",
    "    return score\n",
    "    "
   ]
  },
  {
   "cell_type": "markdown",
   "metadata": {},
   "source": [
    "### Level 0 || Grandparent"
   ]
  },
  {
   "cell_type": "code",
   "execution_count": 42,
   "metadata": {
    "ExecuteTime": {
     "start_time": "2022-11-30T06:03:30.302Z"
    }
   },
   "outputs": [],
   "source": [
    "def stat_0(topic_j, topic_k, candidate_term): #j shuld be original and k is child\n",
    "    a1 = s1_0(topic_k, candidate_term)\n",
    "    a2 = s2_0(topic_j, candidate_term)\n",
    "    a3 = s3_0(topic_j, candidate_term) \n",
    "    return a1*a2*a3"
   ]
  },
  {
   "cell_type": "code",
   "execution_count": 43,
   "metadata": {
    "ExecuteTime": {
     "start_time": "2022-11-30T06:03:30.303Z"
    }
   },
   "outputs": [],
   "source": [
    "def s1_0(topic_id, term):\n",
    "    #number of doc in topic-id\n",
    "    doc_in_tid = len(result[result['parent']==topic_id]['doc_id']) #since child of grandparent is parent\n",
    "    \n",
    "    #number of doc has term\n",
    "    if term in levelONE_number_doc[topic_id]:\n",
    "        doc_n = len(levelONE_number_doc[topic_id][term])\n",
    "    else:\n",
    "        doc_n=1\n",
    "    #number of times term in topic_id\n",
    "    if term in level_one[topic_id].vocabulary_:\n",
    "        tf = level_one[topic_id].vocabulary_[term]\n",
    "    else:\n",
    "        tf=0\n",
    "    \n",
    "    score= math.log(doc_in_tid/doc_n + 1)*tf\n",
    "    return score"
   ]
  },
  {
   "cell_type": "code",
   "execution_count": 44,
   "metadata": {
    "ExecuteTime": {
     "start_time": "2022-11-30T06:03:30.304Z"
    }
   },
   "outputs": [],
   "source": [
    "def s2_0(topic_id, term):\n",
    "    #parent-id\n",
    "    p_topic_id = 0\n",
    "    #number of doc in parent_id (GrandParent so all) contains term;\n",
    "    doc_n = len(result['doc_id'])\n",
    "    \n",
    "    #number of doc p_topic_id has term\n",
    "    if term in levelZERO_number_doc[p_topic_id]:\n",
    "        tf=len(levelZERO_number_doc[p_topic_id][term])\n",
    "    else:\n",
    "        tf=0\n",
    "        \n",
    "    if tf==0:\n",
    "        tf=1\n",
    "        doc_n=1\n",
    "    #Log idf in corpus\n",
    "    score = math.log(doc_n/tf+1)\n",
    "    return score"
   ]
  },
  {
   "cell_type": "code",
   "execution_count": 45,
   "metadata": {
    "ExecuteTime": {
     "start_time": "2022-11-30T06:03:30.305Z"
    }
   },
   "outputs": [],
   "source": [
    "def s3_0(topic_id, term):\n",
    "    #number of direct child\n",
    "    number_of_child = result['parent'].nunique()\n",
    "    \n",
    "    #number of direct child has term\n",
    "    child_term_count = 0\n",
    "    for direct_child in result['parent'].unique():\n",
    "        if term in levelONE_number_doc[direct_child]:\n",
    "            child_term_count+=1    \n",
    "    if child_term_count == 0:\n",
    "        child_term_count = 1\n",
    "    #number of doc in Grandparent/topic_id has term\n",
    "    if term in levelZERO_number_doc[0]:\n",
    "        term_doc = len(levelZERO_number_doc[0][term])\n",
    "    else:\n",
    "        term_doc = 1\n",
    "    \n",
    "    #number of doc in Grandparent/topic_id\n",
    "    doc_n = len(result)\n",
    "    if doc_n==0:\n",
    "        doc_n=1\n",
    "    \n",
    "    score = math.log(number_of_child/child_term_count + 1)*math.exp(term_doc/doc_n)\n",
    "    return score"
   ]
  },
  {
   "cell_type": "code",
   "execution_count": null,
   "metadata": {
    "ExecuteTime": {
     "start_time": "2022-11-30T06:03:30.307Z"
    }
   },
   "outputs": [],
   "source": [
    "label=[]\n",
    "for i in range(0,len(tp_data)):\n",
    "    topic_id = tp_data.iloc[i]['topic_id']\n",
    "    candidate_terms = tp_data.iloc[i]['topic_terms']\n",
    "    level = tp_data.iloc[i]['level']\n",
    "    twl_rank = []\n",
    "    \n",
    "    if level == 2: #leaf\n",
    "        for cnd_term in candidate_terms:\n",
    "            score=stat_2(topic_id,topic_id,cnd_term)\n",
    "            #frequency of term in the topic\n",
    "            if cnd_term in leaf_vec[topic_id].vocabulary_:\n",
    "                tf = leaf_vec[topic_id].vocabulary_[cnd_term]\n",
    "            else:\n",
    "                tf = 1\n",
    "            twl_rank.append([cnd_term,score*tf])\n",
    "    \n",
    "    elif level == 1: #parent        \n",
    "        for cnd_term in candidate_terms:\n",
    "            score = 0\n",
    "            k = result[result['parent']==topic_id]['topic_id']\n",
    "            for child_id in k:\n",
    "                #frequency of term in the child_topic\n",
    "                if cnd_term in leaf_vec[child_id].vocabulary_:\n",
    "                    tf = leaf_vec[child_id].vocabulary_[cnd_term]\n",
    "                else:\n",
    "                    tf = 1\n",
    "                score += stat_1(topic_id,child_id,cnd_term)*tf\n",
    "            twl_rank.append([cnd_term,score])\n",
    "    \n",
    "    elif level == 0:\n",
    "        for cnd_term in candidate_terms:\n",
    "            score = 0\n",
    "            k = result['parent'].unique()\n",
    "            for child_id in k:\n",
    "                #frequency of term in the child_topic\n",
    "                if cnd_term in level_one[child_id].vocabulary_:\n",
    "                    tf = level_one[child_id].vocabulary_[cnd_term]\n",
    "                else:\n",
    "                    tf = 1\n",
    "                score += stat_0(topic_id,child_id,cnd_term)*tf\n",
    "            twl_rank.append([cnd_term,score])            \n",
    "    \n",
    "    \n",
    "    twl_df = pd.DataFrame(twl_rank,columns=['term','score'])\n",
    "    lbl = twl_df.sort_values('score', ascending=False).iloc[0]['term']\n",
    "    label.append(lbl)\n",
    "    if i%50==0:\n",
    "        print('completed till ', i) #just to check whether code is running.\n",
    "\n",
    "tp_data['label']=label"
   ]
  },
  {
   "cell_type": "code",
   "execution_count": null,
   "metadata": {
    "ExecuteTime": {
     "start_time": "2022-11-30T06:03:30.308Z"
    }
   },
   "outputs": [],
   "source": [
    "tp_data"
   ]
  },
  {
   "cell_type": "markdown",
   "metadata": {},
   "source": [
    "## Proposed Methodology"
   ]
  },
  {
   "cell_type": "code",
   "execution_count": null,
   "metadata": {
    "ExecuteTime": {
     "start_time": "2022-11-30T06:03:30.310Z"
    }
   },
   "outputs": [],
   "source": [
    "from nltk.tokenize import WhitespaceTokenizer\n",
    "from nltk.stem import WordNetLemmatizer\n",
    "from numpy import dot\n",
    "from numpy.linalg import norm"
   ]
  },
  {
   "cell_type": "markdown",
   "metadata": {},
   "source": [
    "### Glove Embedding"
   ]
  },
  {
   "cell_type": "code",
   "execution_count": null,
   "metadata": {
    "ExecuteTime": {
     "start_time": "2022-11-30T06:03:30.311Z"
    }
   },
   "outputs": [],
   "source": [
    "#Pre-trained Glove\n",
    "emmbed_dict = {}\n",
    "with open('glove.6B/glove.6B.200d.txt','r', encoding='utf-8') as f:\n",
    "    for line in f:\n",
    "        values = line.split()\n",
    "        word = values[0]\n",
    "        vector = np.asarray(values[1:],'float32')\n",
    "        emmbed_dict[word]=vector\n",
    "\n",
    "tk = WhitespaceTokenizer()\n",
    "def doc_arr(doc):\n",
    "    doc_vec=0\n",
    "    count=0\n",
    "    for word in tk.tokenize(doc):\n",
    "        if word not in stopwords.words('english'):\n",
    "            count+=1\n",
    "            try:   #because some words meight not present in the Glove\n",
    "                doc_vec+=emmbed_dict[wordnet_lemmatizer.lemmatize(word)]\n",
    "            except:\n",
    "                doc_vec+=0\n",
    "    if count==0:\n",
    "        count=1\n",
    "    return doc_vec/count\n",
    "#Cosine Similarity\n",
    "\n",
    "def cos_sim(a,b):\n",
    "    return dot(a, b)/(norm(a)*norm(b))"
   ]
  },
  {
   "cell_type": "markdown",
   "metadata": {},
   "source": [
    "### Keywords"
   ]
  },
  {
   "cell_type": "code",
   "execution_count": null,
   "metadata": {
    "ExecuteTime": {
     "start_time": "2022-11-30T06:03:30.313Z"
    }
   },
   "outputs": [],
   "source": [
    "from keybert import KeyBERT"
   ]
  },
  {
   "cell_type": "markdown",
   "metadata": {},
   "source": [
    "##### Change this as per the dataset"
   ]
  },
  {
   "cell_type": "code",
   "execution_count": null,
   "metadata": {
    "ExecuteTime": {
     "start_time": "2022-11-30T06:03:30.315Z"
    }
   },
   "outputs": [],
   "source": [
    "result['ABSTRACT'] = abstract['ABSTRACT']\n",
    "result['label'] = abstract['label']"
   ]
  },
  {
   "cell_type": "code",
   "execution_count": null,
   "metadata": {
    "ExecuteTime": {
     "start_time": "2022-11-30T06:03:30.316Z"
    }
   },
   "outputs": [],
   "source": [
    "result.sample(5)"
   ]
  },
  {
   "cell_type": "code",
   "execution_count": null,
   "metadata": {
    "ExecuteTime": {
     "start_time": "2022-11-30T06:03:30.317Z"
    }
   },
   "outputs": [],
   "source": [
    "###################### Candidate Generation ########################################\n",
    "####################################################################################\n",
    "kw_model = KeyBERT(\"all-MiniLM-L6-v2\")\n",
    "tp_data['uni_labelss_brt'] = ['label']*len(tp_data)\n",
    "\n",
    "for i in range(0,len(tp_data)):\n",
    "    topic_id = tp_data.iloc[i]['topic_id']\n",
    "    candidate_terms = tp_data.iloc[i]['topic_terms']\n",
    "    level = tp_data.iloc[i]['level']\n",
    "    \n",
    "    corpus=''\n",
    "    if level == 2:\n",
    "        for abstr in result[result['topic_id']==topic_id]['ABSTRACT']:\n",
    "            corpus=corpus+'\\n'+abstr\n",
    "    elif level == 1:\n",
    "        for abstr in result[result['parent']==topic_id]['ABSTRACT']:\n",
    "            corpus=corpus+'\\n'+abstr\n",
    "    elif level == 0:\n",
    "        for abstr in result['ABSTRACT']:\n",
    "            corpus=corpus+'\\n'+abstr\n",
    "\n",
    "    #collecting all the docs corresponding the topic   \n",
    "    key=[]\n",
    "    key = kw_model.extract_keywords(corpus, keyphrase_ngram_range=(1, 1), stop_words='english', top_n=100, use_mmr=True)\n",
    "    #key carries all the keywords in the respective corpus\n",
    "    lbl=[]\n",
    "    semaphore=0\n",
    "\n",
    "    #for seaching topic of the document not documents belonging to the topic.\n",
    "    wrd_keys=[]\n",
    "    for keys in key:\n",
    "        wrd_keys.append(keys[0])\n",
    "\n",
    "    for wrds in candidate_terms:\n",
    "        if wrds in wrd_keys:\n",
    "            lbl.append(wrds)\n",
    "            semaphore=1    \n",
    "\n",
    "    if semaphore==0:\n",
    "        lbl.append('SpamNoMatch')\n",
    "\n",
    "    #storing all the keywords   \n",
    "    for ids in tp_data[tp_data['topic_id']==topic_id].index:\n",
    "        #tp_data.at[ids,'uni_label_brt']=lbl[0]\n",
    "        tp_data.at[ids,'uni_labelss_brt']=tuple(lbl) #we can use tuple, however str is better\n",
    "        if tp_data.at[ids,'topic_id']!=topic_id:\n",
    "            print('alert. Topic id mismatch')\n",
    "    \n",
    "    if len(tp_data[tp_data['uni_labelss_brt']=='spamnomatch'])>0:\n",
    "        print('No Intersection among keyword and topic terms in',len(tp_data[tp_data['uni_label_brt']=='SpamNoMatch']),'of', name)\n",
    "    "
   ]
  },
  {
   "cell_type": "code",
   "execution_count": null,
   "metadata": {
    "ExecuteTime": {
     "start_time": "2022-11-30T06:03:30.319Z"
    }
   },
   "outputs": [],
   "source": [
    "################### Candidate Ranking ##############################\n",
    "###################################################################\n",
    "candidate_label_df=[]\n",
    "candidate_label_df=pd.DataFrame(columns=['candidate','method_similarity','topic_id','domain_sim'])\n",
    "final_label=[]\n",
    "\n",
    "wordnet_lemmatizer = WordNetLemmatizer()\n",
    "for i in range(0,len(tp_data)):\n",
    "    topic_id = tp_data.iloc[i]['topic_id']\n",
    "    candidate_terms = tp_data.iloc[i]['topic_terms']\n",
    "    level = tp_data.iloc[i]['level']\n",
    "    sota_label = tp_data.iloc[i]['label'] #later planning to rename it sota_lable\n",
    "    \n",
    "    corpus=''\n",
    "    if level == 2:\n",
    "        corpus = list(result[result['topic_id']==topic_id]['ABSTRACT'])\n",
    "        domain_labels = result[result['topic_id']==topic_id]['label'].unique() #need further\n",
    "    elif level == 1:\n",
    "        corpus = list(result[result['parent']==topic_id]['ABSTRACT'])\n",
    "        domain_labels = result[result['parent']==topic_id]['label'].unique()\n",
    "    elif level == 0:\n",
    "        corpus = list(result['ABSTRACT'])\n",
    "        domain_labels = result['label'].unique()\n",
    "                             \n",
    "\n",
    "    corpus_glove=0\n",
    "    for doc in corpus:\n",
    "        corpus_glove+=doc_arr(doc)\n",
    "    corpus_glove=corpus_glove/len(corpus)   \n",
    "\n",
    "    for k in tp_data[tp_data['topic_id']==topic_id]['uni_labelss_brt']:\n",
    "        label_ranking=[]\n",
    "        for kk in tk.tokenize(str(k)):\n",
    "            try:\n",
    "                sim=cos_sim(corpus_glove,emmbed_dict[wordnet_lemmatizer.lemmatize(re.sub('[^a-zA-Z]','',kk).lower())])\n",
    "                label_ranking.append([wordnet_lemmatizer.lemmatize(re.sub('[^a-zA-Z]','',kk).lower()),sim])\n",
    "            except:\n",
    "                sim=0\n",
    "                label_ranking.append([wordnet_lemmatizer.lemmatize(re.sub('[^a-zA-Z]','',kk).lower()),sim])            \n",
    "        \n",
    "    label_ranked = pd.DataFrame(label_ranking, columns=['label','similarity_score'])\n",
    "    #Sota similarity\n",
    "    try:\n",
    "        sota_sim = cos_sim(corpus_glove,emmbed_dict[wordnet_lemmatizer.lemmatize(re.sub('[^a-zA-Z]','',sota_label).lower())])\n",
    "    except:\n",
    "        sota_sim = 0\n",
    "    \n",
    "    #Gold Similarity\n",
    "    #domain_labels = result[result['topic_id']==topic_id]['genre'].unique()\n",
    "    domain_sim=0\n",
    "    for j in range(0,len(domain_labels)):\n",
    "        domain_sim+=cos_sim(corpus_glove,emmbed_dict[wordnet_lemmatizer.lemmatize(re.sub('[^a-zA-Z]','',domain_labels[j]).lower())])\n",
    "    \n",
    "    domain_sim=domain_sim/len(domain_labels) #avg nymber of domains it belongs    \n",
    "\n",
    "    final_label.append([topic_id,label_ranked.sort_values('similarity_score', ascending=False).iloc[0]['label'],label_ranked.sort_values('similarity_score', ascending=False).iloc[0]['similarity_score'], tuple(domain_labels),domain_sim,sota_label,sota_sim])\n",
    "   \n",
    "   "
   ]
  },
  {
   "cell_type": "code",
   "execution_count": null,
   "metadata": {
    "ExecuteTime": {
     "start_time": "2022-11-30T06:03:30.320Z"
    }
   },
   "outputs": [],
   "source": [
    "final = pd.DataFrame(final_label,columns=['topic_id','method_label','method_sim','dataset_label','dataset_label_score','sota_label','sota_sim'])"
   ]
  },
  {
   "cell_type": "code",
   "execution_count": null,
   "metadata": {
    "ExecuteTime": {
     "start_time": "2022-11-30T06:03:30.323Z"
    }
   },
   "outputs": [],
   "source": [
    "final['level']=tp_data['level']\n",
    "final"
   ]
  },
  {
   "cell_type": "code",
   "execution_count": null,
   "metadata": {
    "ExecuteTime": {
     "start_time": "2022-11-30T06:03:30.324Z"
    }
   },
   "outputs": [],
   "source": [
    "name='FinalOutputCleanDescription_alpha_%s.csv'%(alpha)\n",
    "final.to_csv(name,index=False)"
   ]
  },
  {
   "cell_type": "markdown",
   "metadata": {},
   "source": [
    "### Analysis"
   ]
  },
  {
   "cell_type": "code",
   "execution_count": 1,
   "metadata": {
    "ExecuteTime": {
     "end_time": "2023-01-06T05:53:18.238356Z",
     "start_time": "2023-01-06T05:53:17.978654Z"
    }
   },
   "outputs": [],
   "source": [
    "import pandas as pd"
   ]
  },
  {
   "cell_type": "code",
   "execution_count": 4,
   "metadata": {
    "ExecuteTime": {
     "end_time": "2023-01-06T05:54:39.502371Z",
     "start_time": "2023-01-06T05:54:39.472265Z"
    }
   },
   "outputs": [],
   "source": [
    "final=pd.read_csv('FinalOutputCleanDescription_alpha_7.csv')\n",
    "\n",
    "final.rename(columns={'method_sim':'Proposed Methodology Similarity','dataset_label_score':'Dataset Label Similarity', 'sota_sim':'TWL Label Similarity'}, inplace=True)"
   ]
  },
  {
   "cell_type": "code",
   "execution_count": 5,
   "metadata": {
    "ExecuteTime": {
     "end_time": "2023-01-06T05:54:52.807686Z",
     "start_time": "2023-01-06T05:54:52.781606Z"
    }
   },
   "outputs": [
    {
     "data": {
      "text/html": [
       "<div>\n",
       "<style scoped>\n",
       "    .dataframe tbody tr th:only-of-type {\n",
       "        vertical-align: middle;\n",
       "    }\n",
       "\n",
       "    .dataframe tbody tr th {\n",
       "        vertical-align: top;\n",
       "    }\n",
       "\n",
       "    .dataframe thead th {\n",
       "        text-align: right;\n",
       "    }\n",
       "</style>\n",
       "<table border=\"1\" class=\"dataframe\">\n",
       "  <thead>\n",
       "    <tr style=\"text-align: right;\">\n",
       "      <th></th>\n",
       "      <th>index</th>\n",
       "      <th>topic_id</th>\n",
       "      <th>method_label</th>\n",
       "      <th>Proposed Methodology Similarity</th>\n",
       "      <th>dataset_label</th>\n",
       "      <th>Dataset Label Similarity</th>\n",
       "      <th>sota_label</th>\n",
       "      <th>TWL Label Similarity</th>\n",
       "      <th>level</th>\n",
       "    </tr>\n",
       "  </thead>\n",
       "  <tbody>\n",
       "    <tr>\n",
       "      <th>0</th>\n",
       "      <td>213</td>\n",
       "      <td>0</td>\n",
       "      <td>label</td>\n",
       "      <td>0.379318</td>\n",
       "      <td>('games',)</td>\n",
       "      <td>0.675881</td>\n",
       "      <td>slots</td>\n",
       "      <td>0.351633</td>\n",
       "      <td>0</td>\n",
       "    </tr>\n",
       "    <tr>\n",
       "      <th>1</th>\n",
       "      <td>212</td>\n",
       "      <td>1</td>\n",
       "      <td>unlock</td>\n",
       "      <td>0.212266</td>\n",
       "      <td>('games',)</td>\n",
       "      <td>0.675797</td>\n",
       "      <td>sniper</td>\n",
       "      <td>0.184733</td>\n",
       "      <td>1</td>\n",
       "    </tr>\n",
       "    <tr>\n",
       "      <th>2</th>\n",
       "      <td>211</td>\n",
       "      <td>2</td>\n",
       "      <td>spamnomatch</td>\n",
       "      <td>0.000000</td>\n",
       "      <td>('games',)</td>\n",
       "      <td>0.676630</td>\n",
       "      <td>virtual</td>\n",
       "      <td>0.461565</td>\n",
       "      <td>2</td>\n",
       "    </tr>\n",
       "    <tr>\n",
       "      <th>3</th>\n",
       "      <td>165</td>\n",
       "      <td>3</td>\n",
       "      <td>xx</td>\n",
       "      <td>0.027793</td>\n",
       "      <td>('games',)</td>\n",
       "      <td>0.662378</td>\n",
       "      <td>qq</td>\n",
       "      <td>-0.058607</td>\n",
       "      <td>1</td>\n",
       "    </tr>\n",
       "    <tr>\n",
       "      <th>4</th>\n",
       "      <td>164</td>\n",
       "      <td>4</td>\n",
       "      <td>figure</td>\n",
       "      <td>0.517497</td>\n",
       "      <td>('games',)</td>\n",
       "      <td>0.657969</td>\n",
       "      <td>written</td>\n",
       "      <td>0.501156</td>\n",
       "      <td>2</td>\n",
       "    </tr>\n",
       "  </tbody>\n",
       "</table>\n",
       "</div>"
      ],
      "text/plain": [
       "   index  topic_id method_label  Proposed Methodology Similarity  \\\n",
       "0    213         0        label                         0.379318   \n",
       "1    212         1       unlock                         0.212266   \n",
       "2    211         2  spamnomatch                         0.000000   \n",
       "3    165         3           xx                         0.027793   \n",
       "4    164         4       figure                         0.517497   \n",
       "\n",
       "  dataset_label  Dataset Label Similarity sota_label  TWL Label Similarity  \\\n",
       "0    ('games',)                  0.675881      slots              0.351633   \n",
       "1    ('games',)                  0.675797     sniper              0.184733   \n",
       "2    ('games',)                  0.676630    virtual              0.461565   \n",
       "3    ('games',)                  0.662378         qq             -0.058607   \n",
       "4    ('games',)                  0.657969    written              0.501156   \n",
       "\n",
       "   level  \n",
       "0      0  \n",
       "1      1  \n",
       "2      2  \n",
       "3      1  \n",
       "4      2  "
      ]
     },
     "execution_count": 5,
     "metadata": {},
     "output_type": "execute_result"
    }
   ],
   "source": [
    "a=final.sort_values(by='topic_id')\n",
    "\n",
    "a.reset_index(inplace=True)\n",
    "a.head()"
   ]
  },
  {
   "cell_type": "code",
   "execution_count": 8,
   "metadata": {
    "ExecuteTime": {
     "end_time": "2023-01-06T05:56:11.657849Z",
     "start_time": "2023-01-06T05:56:11.650144Z"
    }
   },
   "outputs": [],
   "source": [
    "df=pd.DataFrame()\n",
    "\n",
    "metho=[]\n",
    "data_la=[]\n",
    "twl_lab=[]\n",
    "topic = []"
   ]
  },
  {
   "cell_type": "code",
   "execution_count": 9,
   "metadata": {
    "ExecuteTime": {
     "end_time": "2023-01-06T05:56:12.140183Z",
     "start_time": "2023-01-06T05:56:12.124363Z"
    }
   },
   "outputs": [
    {
     "name": "stdout",
     "output_type": "stream",
     "text": [
      "214\n"
     ]
    }
   ],
   "source": [
    "start=0\n",
    "#bucket size depends upon number of topics\n",
    "bucket=len(a)//6-1\n",
    "for i in range(0,5):\n",
    "    end=start+bucket\n",
    "    metho.append(sum(a['Proposed Methodology Similarity'][start:end])/bucket)\n",
    "    data_la.append(sum(a['Dataset Label Similarity'][start:end])/bucket)\n",
    "    twl_lab.append(sum(a['TWL Label Similarity'][start:end])/bucket)\n",
    "    topic.append('Topic%s-Topic%s'%(start,end-1))\n",
    "    start = end\n",
    "\n",
    "bucket = len(a)-start    \n",
    "end=start+bucket\n",
    "metho.append(sum(a['Proposed Methodology Similarity'][start:end])/bucket)\n",
    "data_la.append(sum(a['Dataset Label Similarity'][start:end])/bucket)\n",
    "twl_lab.append(sum(a['TWL Label Similarity'][start:end])/bucket)\n",
    "topic.append('Topic%s-Topic%s'%(start,end-1))\n",
    "start = end\n",
    "\n",
    "\n",
    "if(start==len(a)):\n",
    "    print(start)"
   ]
  },
  {
   "cell_type": "code",
   "execution_count": 10,
   "metadata": {
    "ExecuteTime": {
     "end_time": "2023-01-06T05:56:13.781862Z",
     "start_time": "2023-01-06T05:56:13.774653Z"
    }
   },
   "outputs": [],
   "source": [
    "df['Topics']=topic\n",
    "df['Dataset Label Similarity'] = data_la\n",
    "df['Proposed Methodology Similarity'] = metho\n",
    "df['TWL Label Similarity'] = twl_lab\n",
    "#df"
   ]
  },
  {
   "cell_type": "code",
   "execution_count": 12,
   "metadata": {
    "ExecuteTime": {
     "end_time": "2023-01-06T05:56:31.442656Z",
     "start_time": "2023-01-06T05:56:31.183972Z"
    }
   },
   "outputs": [
    {
     "data": {
      "image/png": "[encoded data removed]",
      "text/plain": [
       "<Figure size 720x648 with 1 Axes>"
      ]
     },
     "metadata": {
      "needs_background": "light"
     },
     "output_type": "display_data"
    }
   ],
   "source": [
    "#import matplotlib.pyplot as plt\n",
    "fig = df.plot(x='Topics',y=['Dataset Label Similarity','Proposed Methodology Similarity','TWL Label Similarity'], kind='bar',figsize=(10,9), xlabel=\"Cosine similarity performance of proposed methodology, dataset given labels and SOTA for alpha 3 over App Summary dataset\", legend=False)"
   ]
  }
 ],
 "metadata": {
  "kernelspec": {
   "display_name": "Python 3",
   "language": "python",
   "name": "python3"
  },
  "language_info": {
   "codemirror_mode": {
    "name": "ipython",
    "version": 3
   },
   "file_extension": ".py",
   "mimetype": "text/x-python",
   "name": "python",
   "nbconvert_exporter": "python",
   "pygments_lexer": "ipython3",
   "version": "3.7.3"
  }
 },
 "nbformat": 4,
 "nbformat_minor": 5
}
